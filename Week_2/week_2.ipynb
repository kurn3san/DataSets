{
  "nbformat": 4,
  "nbformat_minor": 0,
  "metadata": {
    "colab": {
      "name": "week_2.ipynb",
      "provenance": []
    },
    "kernelspec": {
      "name": "python3",
      "display_name": "Python 3"
    },
    "language_info": {
      "name": "python"
    }
  },
  "cells": [
    {
      "cell_type": "code",
      "execution_count": 60,
      "metadata": {
        "id": "VNUOSh3iqusK"
      },
      "outputs": [],
      "source": [
        "import pandas as pd\n",
        "import numpy as np"
      ]
    },
    {
      "cell_type": "code",
      "source": [
        "url_City = 'https://raw.githubusercontent.com/DataGlacier/DataSets/main/City.csv'\n",
        "df_City = pd.read_csv(url_City)"
      ],
      "metadata": {
        "id": "kqzZwspOsYT2"
      },
      "execution_count": 61,
      "outputs": []
    },
    {
      "cell_type": "code",
      "source": [
        "df_City.head()"
      ],
      "metadata": {
        "colab": {
          "base_uri": "https://localhost:8080/",
          "height": 206
        },
        "id": "0cOX6__Gs-YM",
        "outputId": "f1c71f44-f6d1-4d46-9c2e-0cb6f445f840"
      },
      "execution_count": 62,
      "outputs": [
        {
          "output_type": "execute_result",
          "data": {
            "text/plain": [
              "             City   Population      Users\n",
              "0     NEW YORK NY   8,405,837    302,149 \n",
              "1      CHICAGO IL   1,955,130    164,468 \n",
              "2  LOS ANGELES CA   1,595,037    144,132 \n",
              "3        MIAMI FL   1,339,155     17,675 \n",
              "4  SILICON VALLEY   1,177,609     27,247 "
            ],
            "text/html": [
              "\n",
              "  <div id=\"df-e51c12dc-dc9a-461f-b671-16333ec1dfbe\">\n",
              "    <div class=\"colab-df-container\">\n",
              "      <div>\n",
              "<style scoped>\n",
              "    .dataframe tbody tr th:only-of-type {\n",
              "        vertical-align: middle;\n",
              "    }\n",
              "\n",
              "    .dataframe tbody tr th {\n",
              "        vertical-align: top;\n",
              "    }\n",
              "\n",
              "    .dataframe thead th {\n",
              "        text-align: right;\n",
              "    }\n",
              "</style>\n",
              "<table border=\"1\" class=\"dataframe\">\n",
              "  <thead>\n",
              "    <tr style=\"text-align: right;\">\n",
              "      <th></th>\n",
              "      <th>City</th>\n",
              "      <th>Population</th>\n",
              "      <th>Users</th>\n",
              "    </tr>\n",
              "  </thead>\n",
              "  <tbody>\n",
              "    <tr>\n",
              "      <th>0</th>\n",
              "      <td>NEW YORK NY</td>\n",
              "      <td>8,405,837</td>\n",
              "      <td>302,149</td>\n",
              "    </tr>\n",
              "    <tr>\n",
              "      <th>1</th>\n",
              "      <td>CHICAGO IL</td>\n",
              "      <td>1,955,130</td>\n",
              "      <td>164,468</td>\n",
              "    </tr>\n",
              "    <tr>\n",
              "      <th>2</th>\n",
              "      <td>LOS ANGELES CA</td>\n",
              "      <td>1,595,037</td>\n",
              "      <td>144,132</td>\n",
              "    </tr>\n",
              "    <tr>\n",
              "      <th>3</th>\n",
              "      <td>MIAMI FL</td>\n",
              "      <td>1,339,155</td>\n",
              "      <td>17,675</td>\n",
              "    </tr>\n",
              "    <tr>\n",
              "      <th>4</th>\n",
              "      <td>SILICON VALLEY</td>\n",
              "      <td>1,177,609</td>\n",
              "      <td>27,247</td>\n",
              "    </tr>\n",
              "  </tbody>\n",
              "</table>\n",
              "</div>\n",
              "      <button class=\"colab-df-convert\" onclick=\"convertToInteractive('df-e51c12dc-dc9a-461f-b671-16333ec1dfbe')\"\n",
              "              title=\"Convert this dataframe to an interactive table.\"\n",
              "              style=\"display:none;\">\n",
              "        \n",
              "  <svg xmlns=\"http://www.w3.org/2000/svg\" height=\"24px\"viewBox=\"0 0 24 24\"\n",
              "       width=\"24px\">\n",
              "    <path d=\"M0 0h24v24H0V0z\" fill=\"none\"/>\n",
              "    <path d=\"M18.56 5.44l.94 2.06.94-2.06 2.06-.94-2.06-.94-.94-2.06-.94 2.06-2.06.94zm-11 1L8.5 8.5l.94-2.06 2.06-.94-2.06-.94L8.5 2.5l-.94 2.06-2.06.94zm10 10l.94 2.06.94-2.06 2.06-.94-2.06-.94-.94-2.06-.94 2.06-2.06.94z\"/><path d=\"M17.41 7.96l-1.37-1.37c-.4-.4-.92-.59-1.43-.59-.52 0-1.04.2-1.43.59L10.3 9.45l-7.72 7.72c-.78.78-.78 2.05 0 2.83L4 21.41c.39.39.9.59 1.41.59.51 0 1.02-.2 1.41-.59l7.78-7.78 2.81-2.81c.8-.78.8-2.07 0-2.86zM5.41 20L4 18.59l7.72-7.72 1.47 1.35L5.41 20z\"/>\n",
              "  </svg>\n",
              "      </button>\n",
              "      \n",
              "  <style>\n",
              "    .colab-df-container {\n",
              "      display:flex;\n",
              "      flex-wrap:wrap;\n",
              "      gap: 12px;\n",
              "    }\n",
              "\n",
              "    .colab-df-convert {\n",
              "      background-color: #E8F0FE;\n",
              "      border: none;\n",
              "      border-radius: 50%;\n",
              "      cursor: pointer;\n",
              "      display: none;\n",
              "      fill: #1967D2;\n",
              "      height: 32px;\n",
              "      padding: 0 0 0 0;\n",
              "      width: 32px;\n",
              "    }\n",
              "\n",
              "    .colab-df-convert:hover {\n",
              "      background-color: #E2EBFA;\n",
              "      box-shadow: 0px 1px 2px rgba(60, 64, 67, 0.3), 0px 1px 3px 1px rgba(60, 64, 67, 0.15);\n",
              "      fill: #174EA6;\n",
              "    }\n",
              "\n",
              "    [theme=dark] .colab-df-convert {\n",
              "      background-color: #3B4455;\n",
              "      fill: #D2E3FC;\n",
              "    }\n",
              "\n",
              "    [theme=dark] .colab-df-convert:hover {\n",
              "      background-color: #434B5C;\n",
              "      box-shadow: 0px 1px 3px 1px rgba(0, 0, 0, 0.15);\n",
              "      filter: drop-shadow(0px 1px 2px rgba(0, 0, 0, 0.3));\n",
              "      fill: #FFFFFF;\n",
              "    }\n",
              "  </style>\n",
              "\n",
              "      <script>\n",
              "        const buttonEl =\n",
              "          document.querySelector('#df-e51c12dc-dc9a-461f-b671-16333ec1dfbe button.colab-df-convert');\n",
              "        buttonEl.style.display =\n",
              "          google.colab.kernel.accessAllowed ? 'block' : 'none';\n",
              "\n",
              "        async function convertToInteractive(key) {\n",
              "          const element = document.querySelector('#df-e51c12dc-dc9a-461f-b671-16333ec1dfbe');\n",
              "          const dataTable =\n",
              "            await google.colab.kernel.invokeFunction('convertToInteractive',\n",
              "                                                     [key], {});\n",
              "          if (!dataTable) return;\n",
              "\n",
              "          const docLinkHtml = 'Like what you see? Visit the ' +\n",
              "            '<a target=\"_blank\" href=https://colab.research.google.com/notebooks/data_table.ipynb>data table notebook</a>'\n",
              "            + ' to learn more about interactive tables.';\n",
              "          element.innerHTML = '';\n",
              "          dataTable['output_type'] = 'display_data';\n",
              "          await google.colab.output.renderOutput(dataTable, element);\n",
              "          const docLink = document.createElement('div');\n",
              "          docLink.innerHTML = docLinkHtml;\n",
              "          element.appendChild(docLink);\n",
              "        }\n",
              "      </script>\n",
              "    </div>\n",
              "  </div>\n",
              "  "
            ]
          },
          "metadata": {},
          "execution_count": 62
        }
      ]
    },
    {
      "cell_type": "code",
      "source": [
        "df_City.describe()"
      ],
      "metadata": {
        "colab": {
          "base_uri": "https://localhost:8080/",
          "height": 174
        },
        "id": "j2Airjdst3-U",
        "outputId": "4db0128f-bdde-467b-ca2c-58fe5429ac34"
      },
      "execution_count": 63,
      "outputs": [
        {
          "output_type": "execute_result",
          "data": {
            "text/plain": [
              "               City   Population      Users\n",
              "count            20           20         20\n",
              "unique           20           20         20\n",
              "top     NEW YORK NY   8,405,837    302,149 \n",
              "freq              1            1          1"
            ],
            "text/html": [
              "\n",
              "  <div id=\"df-548339fc-7bdc-4ede-8ab0-e2d8451094a2\">\n",
              "    <div class=\"colab-df-container\">\n",
              "      <div>\n",
              "<style scoped>\n",
              "    .dataframe tbody tr th:only-of-type {\n",
              "        vertical-align: middle;\n",
              "    }\n",
              "\n",
              "    .dataframe tbody tr th {\n",
              "        vertical-align: top;\n",
              "    }\n",
              "\n",
              "    .dataframe thead th {\n",
              "        text-align: right;\n",
              "    }\n",
              "</style>\n",
              "<table border=\"1\" class=\"dataframe\">\n",
              "  <thead>\n",
              "    <tr style=\"text-align: right;\">\n",
              "      <th></th>\n",
              "      <th>City</th>\n",
              "      <th>Population</th>\n",
              "      <th>Users</th>\n",
              "    </tr>\n",
              "  </thead>\n",
              "  <tbody>\n",
              "    <tr>\n",
              "      <th>count</th>\n",
              "      <td>20</td>\n",
              "      <td>20</td>\n",
              "      <td>20</td>\n",
              "    </tr>\n",
              "    <tr>\n",
              "      <th>unique</th>\n",
              "      <td>20</td>\n",
              "      <td>20</td>\n",
              "      <td>20</td>\n",
              "    </tr>\n",
              "    <tr>\n",
              "      <th>top</th>\n",
              "      <td>NEW YORK NY</td>\n",
              "      <td>8,405,837</td>\n",
              "      <td>302,149</td>\n",
              "    </tr>\n",
              "    <tr>\n",
              "      <th>freq</th>\n",
              "      <td>1</td>\n",
              "      <td>1</td>\n",
              "      <td>1</td>\n",
              "    </tr>\n",
              "  </tbody>\n",
              "</table>\n",
              "</div>\n",
              "      <button class=\"colab-df-convert\" onclick=\"convertToInteractive('df-548339fc-7bdc-4ede-8ab0-e2d8451094a2')\"\n",
              "              title=\"Convert this dataframe to an interactive table.\"\n",
              "              style=\"display:none;\">\n",
              "        \n",
              "  <svg xmlns=\"http://www.w3.org/2000/svg\" height=\"24px\"viewBox=\"0 0 24 24\"\n",
              "       width=\"24px\">\n",
              "    <path d=\"M0 0h24v24H0V0z\" fill=\"none\"/>\n",
              "    <path d=\"M18.56 5.44l.94 2.06.94-2.06 2.06-.94-2.06-.94-.94-2.06-.94 2.06-2.06.94zm-11 1L8.5 8.5l.94-2.06 2.06-.94-2.06-.94L8.5 2.5l-.94 2.06-2.06.94zm10 10l.94 2.06.94-2.06 2.06-.94-2.06-.94-.94-2.06-.94 2.06-2.06.94z\"/><path d=\"M17.41 7.96l-1.37-1.37c-.4-.4-.92-.59-1.43-.59-.52 0-1.04.2-1.43.59L10.3 9.45l-7.72 7.72c-.78.78-.78 2.05 0 2.83L4 21.41c.39.39.9.59 1.41.59.51 0 1.02-.2 1.41-.59l7.78-7.78 2.81-2.81c.8-.78.8-2.07 0-2.86zM5.41 20L4 18.59l7.72-7.72 1.47 1.35L5.41 20z\"/>\n",
              "  </svg>\n",
              "      </button>\n",
              "      \n",
              "  <style>\n",
              "    .colab-df-container {\n",
              "      display:flex;\n",
              "      flex-wrap:wrap;\n",
              "      gap: 12px;\n",
              "    }\n",
              "\n",
              "    .colab-df-convert {\n",
              "      background-color: #E8F0FE;\n",
              "      border: none;\n",
              "      border-radius: 50%;\n",
              "      cursor: pointer;\n",
              "      display: none;\n",
              "      fill: #1967D2;\n",
              "      height: 32px;\n",
              "      padding: 0 0 0 0;\n",
              "      width: 32px;\n",
              "    }\n",
              "\n",
              "    .colab-df-convert:hover {\n",
              "      background-color: #E2EBFA;\n",
              "      box-shadow: 0px 1px 2px rgba(60, 64, 67, 0.3), 0px 1px 3px 1px rgba(60, 64, 67, 0.15);\n",
              "      fill: #174EA6;\n",
              "    }\n",
              "\n",
              "    [theme=dark] .colab-df-convert {\n",
              "      background-color: #3B4455;\n",
              "      fill: #D2E3FC;\n",
              "    }\n",
              "\n",
              "    [theme=dark] .colab-df-convert:hover {\n",
              "      background-color: #434B5C;\n",
              "      box-shadow: 0px 1px 3px 1px rgba(0, 0, 0, 0.15);\n",
              "      filter: drop-shadow(0px 1px 2px rgba(0, 0, 0, 0.3));\n",
              "      fill: #FFFFFF;\n",
              "    }\n",
              "  </style>\n",
              "\n",
              "      <script>\n",
              "        const buttonEl =\n",
              "          document.querySelector('#df-548339fc-7bdc-4ede-8ab0-e2d8451094a2 button.colab-df-convert');\n",
              "        buttonEl.style.display =\n",
              "          google.colab.kernel.accessAllowed ? 'block' : 'none';\n",
              "\n",
              "        async function convertToInteractive(key) {\n",
              "          const element = document.querySelector('#df-548339fc-7bdc-4ede-8ab0-e2d8451094a2');\n",
              "          const dataTable =\n",
              "            await google.colab.kernel.invokeFunction('convertToInteractive',\n",
              "                                                     [key], {});\n",
              "          if (!dataTable) return;\n",
              "\n",
              "          const docLinkHtml = 'Like what you see? Visit the ' +\n",
              "            '<a target=\"_blank\" href=https://colab.research.google.com/notebooks/data_table.ipynb>data table notebook</a>'\n",
              "            + ' to learn more about interactive tables.';\n",
              "          element.innerHTML = '';\n",
              "          dataTable['output_type'] = 'display_data';\n",
              "          await google.colab.output.renderOutput(dataTable, element);\n",
              "          const docLink = document.createElement('div');\n",
              "          docLink.innerHTML = docLinkHtml;\n",
              "          element.appendChild(docLink);\n",
              "        }\n",
              "      </script>\n",
              "    </div>\n",
              "  </div>\n",
              "  "
            ]
          },
          "metadata": {},
          "execution_count": 63
        }
      ]
    },
    {
      "cell_type": "code",
      "source": [
        "url_Customer_ID = 'https://raw.githubusercontent.com/DataGlacier/DataSets/main/Customer_ID.csv'\n",
        "df_Customer_ID = pd.read_csv(url_Customer_ID)\n",
        "df_Customer_ID.head()"
      ],
      "metadata": {
        "colab": {
          "base_uri": "https://localhost:8080/",
          "height": 206
        },
        "id": "omcDjUo1uRxO",
        "outputId": "a7474b05-6ceb-4da8-a734-b673008e9ae3"
      },
      "execution_count": 64,
      "outputs": [
        {
          "output_type": "execute_result",
          "data": {
            "text/plain": [
              "   Customer ID Gender  Age  Income (USD/Month)\n",
              "0        29290   Male   28               10813\n",
              "1        27703   Male   27                9237\n",
              "2        28712   Male   53               11242\n",
              "3        28020   Male   23               23327\n",
              "4        27182   Male   33                8536"
            ],
            "text/html": [
              "\n",
              "  <div id=\"df-f28deaee-bef8-4cc0-b221-b6529b01d967\">\n",
              "    <div class=\"colab-df-container\">\n",
              "      <div>\n",
              "<style scoped>\n",
              "    .dataframe tbody tr th:only-of-type {\n",
              "        vertical-align: middle;\n",
              "    }\n",
              "\n",
              "    .dataframe tbody tr th {\n",
              "        vertical-align: top;\n",
              "    }\n",
              "\n",
              "    .dataframe thead th {\n",
              "        text-align: right;\n",
              "    }\n",
              "</style>\n",
              "<table border=\"1\" class=\"dataframe\">\n",
              "  <thead>\n",
              "    <tr style=\"text-align: right;\">\n",
              "      <th></th>\n",
              "      <th>Customer ID</th>\n",
              "      <th>Gender</th>\n",
              "      <th>Age</th>\n",
              "      <th>Income (USD/Month)</th>\n",
              "    </tr>\n",
              "  </thead>\n",
              "  <tbody>\n",
              "    <tr>\n",
              "      <th>0</th>\n",
              "      <td>29290</td>\n",
              "      <td>Male</td>\n",
              "      <td>28</td>\n",
              "      <td>10813</td>\n",
              "    </tr>\n",
              "    <tr>\n",
              "      <th>1</th>\n",
              "      <td>27703</td>\n",
              "      <td>Male</td>\n",
              "      <td>27</td>\n",
              "      <td>9237</td>\n",
              "    </tr>\n",
              "    <tr>\n",
              "      <th>2</th>\n",
              "      <td>28712</td>\n",
              "      <td>Male</td>\n",
              "      <td>53</td>\n",
              "      <td>11242</td>\n",
              "    </tr>\n",
              "    <tr>\n",
              "      <th>3</th>\n",
              "      <td>28020</td>\n",
              "      <td>Male</td>\n",
              "      <td>23</td>\n",
              "      <td>23327</td>\n",
              "    </tr>\n",
              "    <tr>\n",
              "      <th>4</th>\n",
              "      <td>27182</td>\n",
              "      <td>Male</td>\n",
              "      <td>33</td>\n",
              "      <td>8536</td>\n",
              "    </tr>\n",
              "  </tbody>\n",
              "</table>\n",
              "</div>\n",
              "      <button class=\"colab-df-convert\" onclick=\"convertToInteractive('df-f28deaee-bef8-4cc0-b221-b6529b01d967')\"\n",
              "              title=\"Convert this dataframe to an interactive table.\"\n",
              "              style=\"display:none;\">\n",
              "        \n",
              "  <svg xmlns=\"http://www.w3.org/2000/svg\" height=\"24px\"viewBox=\"0 0 24 24\"\n",
              "       width=\"24px\">\n",
              "    <path d=\"M0 0h24v24H0V0z\" fill=\"none\"/>\n",
              "    <path d=\"M18.56 5.44l.94 2.06.94-2.06 2.06-.94-2.06-.94-.94-2.06-.94 2.06-2.06.94zm-11 1L8.5 8.5l.94-2.06 2.06-.94-2.06-.94L8.5 2.5l-.94 2.06-2.06.94zm10 10l.94 2.06.94-2.06 2.06-.94-2.06-.94-.94-2.06-.94 2.06-2.06.94z\"/><path d=\"M17.41 7.96l-1.37-1.37c-.4-.4-.92-.59-1.43-.59-.52 0-1.04.2-1.43.59L10.3 9.45l-7.72 7.72c-.78.78-.78 2.05 0 2.83L4 21.41c.39.39.9.59 1.41.59.51 0 1.02-.2 1.41-.59l7.78-7.78 2.81-2.81c.8-.78.8-2.07 0-2.86zM5.41 20L4 18.59l7.72-7.72 1.47 1.35L5.41 20z\"/>\n",
              "  </svg>\n",
              "      </button>\n",
              "      \n",
              "  <style>\n",
              "    .colab-df-container {\n",
              "      display:flex;\n",
              "      flex-wrap:wrap;\n",
              "      gap: 12px;\n",
              "    }\n",
              "\n",
              "    .colab-df-convert {\n",
              "      background-color: #E8F0FE;\n",
              "      border: none;\n",
              "      border-radius: 50%;\n",
              "      cursor: pointer;\n",
              "      display: none;\n",
              "      fill: #1967D2;\n",
              "      height: 32px;\n",
              "      padding: 0 0 0 0;\n",
              "      width: 32px;\n",
              "    }\n",
              "\n",
              "    .colab-df-convert:hover {\n",
              "      background-color: #E2EBFA;\n",
              "      box-shadow: 0px 1px 2px rgba(60, 64, 67, 0.3), 0px 1px 3px 1px rgba(60, 64, 67, 0.15);\n",
              "      fill: #174EA6;\n",
              "    }\n",
              "\n",
              "    [theme=dark] .colab-df-convert {\n",
              "      background-color: #3B4455;\n",
              "      fill: #D2E3FC;\n",
              "    }\n",
              "\n",
              "    [theme=dark] .colab-df-convert:hover {\n",
              "      background-color: #434B5C;\n",
              "      box-shadow: 0px 1px 3px 1px rgba(0, 0, 0, 0.15);\n",
              "      filter: drop-shadow(0px 1px 2px rgba(0, 0, 0, 0.3));\n",
              "      fill: #FFFFFF;\n",
              "    }\n",
              "  </style>\n",
              "\n",
              "      <script>\n",
              "        const buttonEl =\n",
              "          document.querySelector('#df-f28deaee-bef8-4cc0-b221-b6529b01d967 button.colab-df-convert');\n",
              "        buttonEl.style.display =\n",
              "          google.colab.kernel.accessAllowed ? 'block' : 'none';\n",
              "\n",
              "        async function convertToInteractive(key) {\n",
              "          const element = document.querySelector('#df-f28deaee-bef8-4cc0-b221-b6529b01d967');\n",
              "          const dataTable =\n",
              "            await google.colab.kernel.invokeFunction('convertToInteractive',\n",
              "                                                     [key], {});\n",
              "          if (!dataTable) return;\n",
              "\n",
              "          const docLinkHtml = 'Like what you see? Visit the ' +\n",
              "            '<a target=\"_blank\" href=https://colab.research.google.com/notebooks/data_table.ipynb>data table notebook</a>'\n",
              "            + ' to learn more about interactive tables.';\n",
              "          element.innerHTML = '';\n",
              "          dataTable['output_type'] = 'display_data';\n",
              "          await google.colab.output.renderOutput(dataTable, element);\n",
              "          const docLink = document.createElement('div');\n",
              "          docLink.innerHTML = docLinkHtml;\n",
              "          element.appendChild(docLink);\n",
              "        }\n",
              "      </script>\n",
              "    </div>\n",
              "  </div>\n",
              "  "
            ]
          },
          "metadata": {},
          "execution_count": 64
        }
      ]
    },
    {
      "cell_type": "code",
      "source": [
        "df_Customer_ID.describe()"
      ],
      "metadata": {
        "colab": {
          "base_uri": "https://localhost:8080/",
          "height": 300
        },
        "id": "lahNLWGJuv60",
        "outputId": "e6ed6f01-88b6-4672-e354-8a081884eced"
      },
      "execution_count": 65,
      "outputs": [
        {
          "output_type": "execute_result",
          "data": {
            "text/plain": [
              "        Customer ID           Age  Income (USD/Month)\n",
              "count  49171.000000  49171.000000        49171.000000\n",
              "mean   28398.252283     35.363121        15015.631856\n",
              "std    17714.137333     12.599066         8002.208253\n",
              "min        1.000000     18.000000         2000.000000\n",
              "25%    12654.500000     25.000000         8289.500000\n",
              "50%    27631.000000     33.000000        14656.000000\n",
              "75%    43284.500000     42.000000        21035.000000\n",
              "max    60000.000000     65.000000        35000.000000"
            ],
            "text/html": [
              "\n",
              "  <div id=\"df-74146a82-ad56-4f80-8495-1e3020463f90\">\n",
              "    <div class=\"colab-df-container\">\n",
              "      <div>\n",
              "<style scoped>\n",
              "    .dataframe tbody tr th:only-of-type {\n",
              "        vertical-align: middle;\n",
              "    }\n",
              "\n",
              "    .dataframe tbody tr th {\n",
              "        vertical-align: top;\n",
              "    }\n",
              "\n",
              "    .dataframe thead th {\n",
              "        text-align: right;\n",
              "    }\n",
              "</style>\n",
              "<table border=\"1\" class=\"dataframe\">\n",
              "  <thead>\n",
              "    <tr style=\"text-align: right;\">\n",
              "      <th></th>\n",
              "      <th>Customer ID</th>\n",
              "      <th>Age</th>\n",
              "      <th>Income (USD/Month)</th>\n",
              "    </tr>\n",
              "  </thead>\n",
              "  <tbody>\n",
              "    <tr>\n",
              "      <th>count</th>\n",
              "      <td>49171.000000</td>\n",
              "      <td>49171.000000</td>\n",
              "      <td>49171.000000</td>\n",
              "    </tr>\n",
              "    <tr>\n",
              "      <th>mean</th>\n",
              "      <td>28398.252283</td>\n",
              "      <td>35.363121</td>\n",
              "      <td>15015.631856</td>\n",
              "    </tr>\n",
              "    <tr>\n",
              "      <th>std</th>\n",
              "      <td>17714.137333</td>\n",
              "      <td>12.599066</td>\n",
              "      <td>8002.208253</td>\n",
              "    </tr>\n",
              "    <tr>\n",
              "      <th>min</th>\n",
              "      <td>1.000000</td>\n",
              "      <td>18.000000</td>\n",
              "      <td>2000.000000</td>\n",
              "    </tr>\n",
              "    <tr>\n",
              "      <th>25%</th>\n",
              "      <td>12654.500000</td>\n",
              "      <td>25.000000</td>\n",
              "      <td>8289.500000</td>\n",
              "    </tr>\n",
              "    <tr>\n",
              "      <th>50%</th>\n",
              "      <td>27631.000000</td>\n",
              "      <td>33.000000</td>\n",
              "      <td>14656.000000</td>\n",
              "    </tr>\n",
              "    <tr>\n",
              "      <th>75%</th>\n",
              "      <td>43284.500000</td>\n",
              "      <td>42.000000</td>\n",
              "      <td>21035.000000</td>\n",
              "    </tr>\n",
              "    <tr>\n",
              "      <th>max</th>\n",
              "      <td>60000.000000</td>\n",
              "      <td>65.000000</td>\n",
              "      <td>35000.000000</td>\n",
              "    </tr>\n",
              "  </tbody>\n",
              "</table>\n",
              "</div>\n",
              "      <button class=\"colab-df-convert\" onclick=\"convertToInteractive('df-74146a82-ad56-4f80-8495-1e3020463f90')\"\n",
              "              title=\"Convert this dataframe to an interactive table.\"\n",
              "              style=\"display:none;\">\n",
              "        \n",
              "  <svg xmlns=\"http://www.w3.org/2000/svg\" height=\"24px\"viewBox=\"0 0 24 24\"\n",
              "       width=\"24px\">\n",
              "    <path d=\"M0 0h24v24H0V0z\" fill=\"none\"/>\n",
              "    <path d=\"M18.56 5.44l.94 2.06.94-2.06 2.06-.94-2.06-.94-.94-2.06-.94 2.06-2.06.94zm-11 1L8.5 8.5l.94-2.06 2.06-.94-2.06-.94L8.5 2.5l-.94 2.06-2.06.94zm10 10l.94 2.06.94-2.06 2.06-.94-2.06-.94-.94-2.06-.94 2.06-2.06.94z\"/><path d=\"M17.41 7.96l-1.37-1.37c-.4-.4-.92-.59-1.43-.59-.52 0-1.04.2-1.43.59L10.3 9.45l-7.72 7.72c-.78.78-.78 2.05 0 2.83L4 21.41c.39.39.9.59 1.41.59.51 0 1.02-.2 1.41-.59l7.78-7.78 2.81-2.81c.8-.78.8-2.07 0-2.86zM5.41 20L4 18.59l7.72-7.72 1.47 1.35L5.41 20z\"/>\n",
              "  </svg>\n",
              "      </button>\n",
              "      \n",
              "  <style>\n",
              "    .colab-df-container {\n",
              "      display:flex;\n",
              "      flex-wrap:wrap;\n",
              "      gap: 12px;\n",
              "    }\n",
              "\n",
              "    .colab-df-convert {\n",
              "      background-color: #E8F0FE;\n",
              "      border: none;\n",
              "      border-radius: 50%;\n",
              "      cursor: pointer;\n",
              "      display: none;\n",
              "      fill: #1967D2;\n",
              "      height: 32px;\n",
              "      padding: 0 0 0 0;\n",
              "      width: 32px;\n",
              "    }\n",
              "\n",
              "    .colab-df-convert:hover {\n",
              "      background-color: #E2EBFA;\n",
              "      box-shadow: 0px 1px 2px rgba(60, 64, 67, 0.3), 0px 1px 3px 1px rgba(60, 64, 67, 0.15);\n",
              "      fill: #174EA6;\n",
              "    }\n",
              "\n",
              "    [theme=dark] .colab-df-convert {\n",
              "      background-color: #3B4455;\n",
              "      fill: #D2E3FC;\n",
              "    }\n",
              "\n",
              "    [theme=dark] .colab-df-convert:hover {\n",
              "      background-color: #434B5C;\n",
              "      box-shadow: 0px 1px 3px 1px rgba(0, 0, 0, 0.15);\n",
              "      filter: drop-shadow(0px 1px 2px rgba(0, 0, 0, 0.3));\n",
              "      fill: #FFFFFF;\n",
              "    }\n",
              "  </style>\n",
              "\n",
              "      <script>\n",
              "        const buttonEl =\n",
              "          document.querySelector('#df-74146a82-ad56-4f80-8495-1e3020463f90 button.colab-df-convert');\n",
              "        buttonEl.style.display =\n",
              "          google.colab.kernel.accessAllowed ? 'block' : 'none';\n",
              "\n",
              "        async function convertToInteractive(key) {\n",
              "          const element = document.querySelector('#df-74146a82-ad56-4f80-8495-1e3020463f90');\n",
              "          const dataTable =\n",
              "            await google.colab.kernel.invokeFunction('convertToInteractive',\n",
              "                                                     [key], {});\n",
              "          if (!dataTable) return;\n",
              "\n",
              "          const docLinkHtml = 'Like what you see? Visit the ' +\n",
              "            '<a target=\"_blank\" href=https://colab.research.google.com/notebooks/data_table.ipynb>data table notebook</a>'\n",
              "            + ' to learn more about interactive tables.';\n",
              "          element.innerHTML = '';\n",
              "          dataTable['output_type'] = 'display_data';\n",
              "          await google.colab.output.renderOutput(dataTable, element);\n",
              "          const docLink = document.createElement('div');\n",
              "          docLink.innerHTML = docLinkHtml;\n",
              "          element.appendChild(docLink);\n",
              "        }\n",
              "      </script>\n",
              "    </div>\n",
              "  </div>\n",
              "  "
            ]
          },
          "metadata": {},
          "execution_count": 65
        }
      ]
    },
    {
      "cell_type": "code",
      "source": [
        "url_Transaction_ID = 'https://raw.githubusercontent.com/DataGlacier/DataSets/main/Transaction_ID.csv'\n",
        "df_Transaction_ID = pd.read_csv(url_Transaction_ID)\n",
        "df_Transaction_ID.head()"
      ],
      "metadata": {
        "colab": {
          "base_uri": "https://localhost:8080/",
          "height": 206
        },
        "id": "Pd9642ucuRno",
        "outputId": "9d36a06b-1e7c-4250-ccd6-62ca77e5f9cf"
      },
      "execution_count": 66,
      "outputs": [
        {
          "output_type": "execute_result",
          "data": {
            "text/plain": [
              "   Transaction ID  Customer ID Payment_Mode\n",
              "0        10000011        29290         Card\n",
              "1        10000012        27703         Card\n",
              "2        10000013        28712         Cash\n",
              "3        10000014        28020         Cash\n",
              "4        10000015        27182         Card"
            ],
            "text/html": [
              "\n",
              "  <div id=\"df-e7c985d2-40d8-41fb-9d2f-29ca6a8b3c55\">\n",
              "    <div class=\"colab-df-container\">\n",
              "      <div>\n",
              "<style scoped>\n",
              "    .dataframe tbody tr th:only-of-type {\n",
              "        vertical-align: middle;\n",
              "    }\n",
              "\n",
              "    .dataframe tbody tr th {\n",
              "        vertical-align: top;\n",
              "    }\n",
              "\n",
              "    .dataframe thead th {\n",
              "        text-align: right;\n",
              "    }\n",
              "</style>\n",
              "<table border=\"1\" class=\"dataframe\">\n",
              "  <thead>\n",
              "    <tr style=\"text-align: right;\">\n",
              "      <th></th>\n",
              "      <th>Transaction ID</th>\n",
              "      <th>Customer ID</th>\n",
              "      <th>Payment_Mode</th>\n",
              "    </tr>\n",
              "  </thead>\n",
              "  <tbody>\n",
              "    <tr>\n",
              "      <th>0</th>\n",
              "      <td>10000011</td>\n",
              "      <td>29290</td>\n",
              "      <td>Card</td>\n",
              "    </tr>\n",
              "    <tr>\n",
              "      <th>1</th>\n",
              "      <td>10000012</td>\n",
              "      <td>27703</td>\n",
              "      <td>Card</td>\n",
              "    </tr>\n",
              "    <tr>\n",
              "      <th>2</th>\n",
              "      <td>10000013</td>\n",
              "      <td>28712</td>\n",
              "      <td>Cash</td>\n",
              "    </tr>\n",
              "    <tr>\n",
              "      <th>3</th>\n",
              "      <td>10000014</td>\n",
              "      <td>28020</td>\n",
              "      <td>Cash</td>\n",
              "    </tr>\n",
              "    <tr>\n",
              "      <th>4</th>\n",
              "      <td>10000015</td>\n",
              "      <td>27182</td>\n",
              "      <td>Card</td>\n",
              "    </tr>\n",
              "  </tbody>\n",
              "</table>\n",
              "</div>\n",
              "      <button class=\"colab-df-convert\" onclick=\"convertToInteractive('df-e7c985d2-40d8-41fb-9d2f-29ca6a8b3c55')\"\n",
              "              title=\"Convert this dataframe to an interactive table.\"\n",
              "              style=\"display:none;\">\n",
              "        \n",
              "  <svg xmlns=\"http://www.w3.org/2000/svg\" height=\"24px\"viewBox=\"0 0 24 24\"\n",
              "       width=\"24px\">\n",
              "    <path d=\"M0 0h24v24H0V0z\" fill=\"none\"/>\n",
              "    <path d=\"M18.56 5.44l.94 2.06.94-2.06 2.06-.94-2.06-.94-.94-2.06-.94 2.06-2.06.94zm-11 1L8.5 8.5l.94-2.06 2.06-.94-2.06-.94L8.5 2.5l-.94 2.06-2.06.94zm10 10l.94 2.06.94-2.06 2.06-.94-2.06-.94-.94-2.06-.94 2.06-2.06.94z\"/><path d=\"M17.41 7.96l-1.37-1.37c-.4-.4-.92-.59-1.43-.59-.52 0-1.04.2-1.43.59L10.3 9.45l-7.72 7.72c-.78.78-.78 2.05 0 2.83L4 21.41c.39.39.9.59 1.41.59.51 0 1.02-.2 1.41-.59l7.78-7.78 2.81-2.81c.8-.78.8-2.07 0-2.86zM5.41 20L4 18.59l7.72-7.72 1.47 1.35L5.41 20z\"/>\n",
              "  </svg>\n",
              "      </button>\n",
              "      \n",
              "  <style>\n",
              "    .colab-df-container {\n",
              "      display:flex;\n",
              "      flex-wrap:wrap;\n",
              "      gap: 12px;\n",
              "    }\n",
              "\n",
              "    .colab-df-convert {\n",
              "      background-color: #E8F0FE;\n",
              "      border: none;\n",
              "      border-radius: 50%;\n",
              "      cursor: pointer;\n",
              "      display: none;\n",
              "      fill: #1967D2;\n",
              "      height: 32px;\n",
              "      padding: 0 0 0 0;\n",
              "      width: 32px;\n",
              "    }\n",
              "\n",
              "    .colab-df-convert:hover {\n",
              "      background-color: #E2EBFA;\n",
              "      box-shadow: 0px 1px 2px rgba(60, 64, 67, 0.3), 0px 1px 3px 1px rgba(60, 64, 67, 0.15);\n",
              "      fill: #174EA6;\n",
              "    }\n",
              "\n",
              "    [theme=dark] .colab-df-convert {\n",
              "      background-color: #3B4455;\n",
              "      fill: #D2E3FC;\n",
              "    }\n",
              "\n",
              "    [theme=dark] .colab-df-convert:hover {\n",
              "      background-color: #434B5C;\n",
              "      box-shadow: 0px 1px 3px 1px rgba(0, 0, 0, 0.15);\n",
              "      filter: drop-shadow(0px 1px 2px rgba(0, 0, 0, 0.3));\n",
              "      fill: #FFFFFF;\n",
              "    }\n",
              "  </style>\n",
              "\n",
              "      <script>\n",
              "        const buttonEl =\n",
              "          document.querySelector('#df-e7c985d2-40d8-41fb-9d2f-29ca6a8b3c55 button.colab-df-convert');\n",
              "        buttonEl.style.display =\n",
              "          google.colab.kernel.accessAllowed ? 'block' : 'none';\n",
              "\n",
              "        async function convertToInteractive(key) {\n",
              "          const element = document.querySelector('#df-e7c985d2-40d8-41fb-9d2f-29ca6a8b3c55');\n",
              "          const dataTable =\n",
              "            await google.colab.kernel.invokeFunction('convertToInteractive',\n",
              "                                                     [key], {});\n",
              "          if (!dataTable) return;\n",
              "\n",
              "          const docLinkHtml = 'Like what you see? Visit the ' +\n",
              "            '<a target=\"_blank\" href=https://colab.research.google.com/notebooks/data_table.ipynb>data table notebook</a>'\n",
              "            + ' to learn more about interactive tables.';\n",
              "          element.innerHTML = '';\n",
              "          dataTable['output_type'] = 'display_data';\n",
              "          await google.colab.output.renderOutput(dataTable, element);\n",
              "          const docLink = document.createElement('div');\n",
              "          docLink.innerHTML = docLinkHtml;\n",
              "          element.appendChild(docLink);\n",
              "        }\n",
              "      </script>\n",
              "    </div>\n",
              "  </div>\n",
              "  "
            ]
          },
          "metadata": {},
          "execution_count": 66
        }
      ]
    },
    {
      "cell_type": "code",
      "source": [
        "df_Transaction_ID.describe()"
      ],
      "metadata": {
        "colab": {
          "base_uri": "https://localhost:8080/",
          "height": 300
        },
        "id": "8hHcEfGluRbE",
        "outputId": "e51be8ad-16ce-48a2-c43a-f3b560ac90bb"
      },
      "execution_count": 67,
      "outputs": [
        {
          "output_type": "execute_result",
          "data": {
            "text/plain": [
              "       Transaction ID    Customer ID\n",
              "count    4.400980e+05  440098.000000\n",
              "mean     1.022006e+07   23619.513120\n",
              "std      1.270455e+05   21195.549816\n",
              "min      1.000001e+07       1.000000\n",
              "25%      1.011004e+07    3530.000000\n",
              "50%      1.022006e+07   15168.000000\n",
              "75%      1.033008e+07   43884.000000\n",
              "max      1.044011e+07   60000.000000"
            ],
            "text/html": [
              "\n",
              "  <div id=\"df-36208278-b922-4d88-8044-2813bde283ee\">\n",
              "    <div class=\"colab-df-container\">\n",
              "      <div>\n",
              "<style scoped>\n",
              "    .dataframe tbody tr th:only-of-type {\n",
              "        vertical-align: middle;\n",
              "    }\n",
              "\n",
              "    .dataframe tbody tr th {\n",
              "        vertical-align: top;\n",
              "    }\n",
              "\n",
              "    .dataframe thead th {\n",
              "        text-align: right;\n",
              "    }\n",
              "</style>\n",
              "<table border=\"1\" class=\"dataframe\">\n",
              "  <thead>\n",
              "    <tr style=\"text-align: right;\">\n",
              "      <th></th>\n",
              "      <th>Transaction ID</th>\n",
              "      <th>Customer ID</th>\n",
              "    </tr>\n",
              "  </thead>\n",
              "  <tbody>\n",
              "    <tr>\n",
              "      <th>count</th>\n",
              "      <td>4.400980e+05</td>\n",
              "      <td>440098.000000</td>\n",
              "    </tr>\n",
              "    <tr>\n",
              "      <th>mean</th>\n",
              "      <td>1.022006e+07</td>\n",
              "      <td>23619.513120</td>\n",
              "    </tr>\n",
              "    <tr>\n",
              "      <th>std</th>\n",
              "      <td>1.270455e+05</td>\n",
              "      <td>21195.549816</td>\n",
              "    </tr>\n",
              "    <tr>\n",
              "      <th>min</th>\n",
              "      <td>1.000001e+07</td>\n",
              "      <td>1.000000</td>\n",
              "    </tr>\n",
              "    <tr>\n",
              "      <th>25%</th>\n",
              "      <td>1.011004e+07</td>\n",
              "      <td>3530.000000</td>\n",
              "    </tr>\n",
              "    <tr>\n",
              "      <th>50%</th>\n",
              "      <td>1.022006e+07</td>\n",
              "      <td>15168.000000</td>\n",
              "    </tr>\n",
              "    <tr>\n",
              "      <th>75%</th>\n",
              "      <td>1.033008e+07</td>\n",
              "      <td>43884.000000</td>\n",
              "    </tr>\n",
              "    <tr>\n",
              "      <th>max</th>\n",
              "      <td>1.044011e+07</td>\n",
              "      <td>60000.000000</td>\n",
              "    </tr>\n",
              "  </tbody>\n",
              "</table>\n",
              "</div>\n",
              "      <button class=\"colab-df-convert\" onclick=\"convertToInteractive('df-36208278-b922-4d88-8044-2813bde283ee')\"\n",
              "              title=\"Convert this dataframe to an interactive table.\"\n",
              "              style=\"display:none;\">\n",
              "        \n",
              "  <svg xmlns=\"http://www.w3.org/2000/svg\" height=\"24px\"viewBox=\"0 0 24 24\"\n",
              "       width=\"24px\">\n",
              "    <path d=\"M0 0h24v24H0V0z\" fill=\"none\"/>\n",
              "    <path d=\"M18.56 5.44l.94 2.06.94-2.06 2.06-.94-2.06-.94-.94-2.06-.94 2.06-2.06.94zm-11 1L8.5 8.5l.94-2.06 2.06-.94-2.06-.94L8.5 2.5l-.94 2.06-2.06.94zm10 10l.94 2.06.94-2.06 2.06-.94-2.06-.94-.94-2.06-.94 2.06-2.06.94z\"/><path d=\"M17.41 7.96l-1.37-1.37c-.4-.4-.92-.59-1.43-.59-.52 0-1.04.2-1.43.59L10.3 9.45l-7.72 7.72c-.78.78-.78 2.05 0 2.83L4 21.41c.39.39.9.59 1.41.59.51 0 1.02-.2 1.41-.59l7.78-7.78 2.81-2.81c.8-.78.8-2.07 0-2.86zM5.41 20L4 18.59l7.72-7.72 1.47 1.35L5.41 20z\"/>\n",
              "  </svg>\n",
              "      </button>\n",
              "      \n",
              "  <style>\n",
              "    .colab-df-container {\n",
              "      display:flex;\n",
              "      flex-wrap:wrap;\n",
              "      gap: 12px;\n",
              "    }\n",
              "\n",
              "    .colab-df-convert {\n",
              "      background-color: #E8F0FE;\n",
              "      border: none;\n",
              "      border-radius: 50%;\n",
              "      cursor: pointer;\n",
              "      display: none;\n",
              "      fill: #1967D2;\n",
              "      height: 32px;\n",
              "      padding: 0 0 0 0;\n",
              "      width: 32px;\n",
              "    }\n",
              "\n",
              "    .colab-df-convert:hover {\n",
              "      background-color: #E2EBFA;\n",
              "      box-shadow: 0px 1px 2px rgba(60, 64, 67, 0.3), 0px 1px 3px 1px rgba(60, 64, 67, 0.15);\n",
              "      fill: #174EA6;\n",
              "    }\n",
              "\n",
              "    [theme=dark] .colab-df-convert {\n",
              "      background-color: #3B4455;\n",
              "      fill: #D2E3FC;\n",
              "    }\n",
              "\n",
              "    [theme=dark] .colab-df-convert:hover {\n",
              "      background-color: #434B5C;\n",
              "      box-shadow: 0px 1px 3px 1px rgba(0, 0, 0, 0.15);\n",
              "      filter: drop-shadow(0px 1px 2px rgba(0, 0, 0, 0.3));\n",
              "      fill: #FFFFFF;\n",
              "    }\n",
              "  </style>\n",
              "\n",
              "      <script>\n",
              "        const buttonEl =\n",
              "          document.querySelector('#df-36208278-b922-4d88-8044-2813bde283ee button.colab-df-convert');\n",
              "        buttonEl.style.display =\n",
              "          google.colab.kernel.accessAllowed ? 'block' : 'none';\n",
              "\n",
              "        async function convertToInteractive(key) {\n",
              "          const element = document.querySelector('#df-36208278-b922-4d88-8044-2813bde283ee');\n",
              "          const dataTable =\n",
              "            await google.colab.kernel.invokeFunction('convertToInteractive',\n",
              "                                                     [key], {});\n",
              "          if (!dataTable) return;\n",
              "\n",
              "          const docLinkHtml = 'Like what you see? Visit the ' +\n",
              "            '<a target=\"_blank\" href=https://colab.research.google.com/notebooks/data_table.ipynb>data table notebook</a>'\n",
              "            + ' to learn more about interactive tables.';\n",
              "          element.innerHTML = '';\n",
              "          dataTable['output_type'] = 'display_data';\n",
              "          await google.colab.output.renderOutput(dataTable, element);\n",
              "          const docLink = document.createElement('div');\n",
              "          docLink.innerHTML = docLinkHtml;\n",
              "          element.appendChild(docLink);\n",
              "        }\n",
              "      </script>\n",
              "    </div>\n",
              "  </div>\n",
              "  "
            ]
          },
          "metadata": {},
          "execution_count": 67
        }
      ]
    },
    {
      "cell_type": "code",
      "source": [
        "url_Cab_Data = 'https://raw.githubusercontent.com/DataGlacier/DataSets/main/Cab_Data.csv'\n",
        "df_Cab_Data = pd.read_csv(url_Cab_Data)\n",
        "df_Cab_Data.head()"
      ],
      "metadata": {
        "colab": {
          "base_uri": "https://localhost:8080/",
          "height": 206
        },
        "id": "-fsKUb9ds-0j",
        "outputId": "f555f57f-2bd8-4f16-ea4b-a9a3e4c45c94"
      },
      "execution_count": 68,
      "outputs": [
        {
          "output_type": "execute_result",
          "data": {
            "text/plain": [
              "   Transaction ID  Date of Travel   Company        City  KM Travelled  \\\n",
              "0        10000011           42377  Pink Cab  ATLANTA GA         30.45   \n",
              "1        10000012           42375  Pink Cab  ATLANTA GA         28.62   \n",
              "2        10000013           42371  Pink Cab  ATLANTA GA          9.04   \n",
              "3        10000014           42376  Pink Cab  ATLANTA GA         33.17   \n",
              "4        10000015           42372  Pink Cab  ATLANTA GA          8.73   \n",
              "\n",
              "   Price Charged  Cost of Trip  \n",
              "0         370.95       313.635  \n",
              "1         358.52       334.854  \n",
              "2         125.20        97.632  \n",
              "3         377.40       351.602  \n",
              "4         114.62        97.776  "
            ],
            "text/html": [
              "\n",
              "  <div id=\"df-79452f60-17e7-44b7-be7e-1e4e253368d4\">\n",
              "    <div class=\"colab-df-container\">\n",
              "      <div>\n",
              "<style scoped>\n",
              "    .dataframe tbody tr th:only-of-type {\n",
              "        vertical-align: middle;\n",
              "    }\n",
              "\n",
              "    .dataframe tbody tr th {\n",
              "        vertical-align: top;\n",
              "    }\n",
              "\n",
              "    .dataframe thead th {\n",
              "        text-align: right;\n",
              "    }\n",
              "</style>\n",
              "<table border=\"1\" class=\"dataframe\">\n",
              "  <thead>\n",
              "    <tr style=\"text-align: right;\">\n",
              "      <th></th>\n",
              "      <th>Transaction ID</th>\n",
              "      <th>Date of Travel</th>\n",
              "      <th>Company</th>\n",
              "      <th>City</th>\n",
              "      <th>KM Travelled</th>\n",
              "      <th>Price Charged</th>\n",
              "      <th>Cost of Trip</th>\n",
              "    </tr>\n",
              "  </thead>\n",
              "  <tbody>\n",
              "    <tr>\n",
              "      <th>0</th>\n",
              "      <td>10000011</td>\n",
              "      <td>42377</td>\n",
              "      <td>Pink Cab</td>\n",
              "      <td>ATLANTA GA</td>\n",
              "      <td>30.45</td>\n",
              "      <td>370.95</td>\n",
              "      <td>313.635</td>\n",
              "    </tr>\n",
              "    <tr>\n",
              "      <th>1</th>\n",
              "      <td>10000012</td>\n",
              "      <td>42375</td>\n",
              "      <td>Pink Cab</td>\n",
              "      <td>ATLANTA GA</td>\n",
              "      <td>28.62</td>\n",
              "      <td>358.52</td>\n",
              "      <td>334.854</td>\n",
              "    </tr>\n",
              "    <tr>\n",
              "      <th>2</th>\n",
              "      <td>10000013</td>\n",
              "      <td>42371</td>\n",
              "      <td>Pink Cab</td>\n",
              "      <td>ATLANTA GA</td>\n",
              "      <td>9.04</td>\n",
              "      <td>125.20</td>\n",
              "      <td>97.632</td>\n",
              "    </tr>\n",
              "    <tr>\n",
              "      <th>3</th>\n",
              "      <td>10000014</td>\n",
              "      <td>42376</td>\n",
              "      <td>Pink Cab</td>\n",
              "      <td>ATLANTA GA</td>\n",
              "      <td>33.17</td>\n",
              "      <td>377.40</td>\n",
              "      <td>351.602</td>\n",
              "    </tr>\n",
              "    <tr>\n",
              "      <th>4</th>\n",
              "      <td>10000015</td>\n",
              "      <td>42372</td>\n",
              "      <td>Pink Cab</td>\n",
              "      <td>ATLANTA GA</td>\n",
              "      <td>8.73</td>\n",
              "      <td>114.62</td>\n",
              "      <td>97.776</td>\n",
              "    </tr>\n",
              "  </tbody>\n",
              "</table>\n",
              "</div>\n",
              "      <button class=\"colab-df-convert\" onclick=\"convertToInteractive('df-79452f60-17e7-44b7-be7e-1e4e253368d4')\"\n",
              "              title=\"Convert this dataframe to an interactive table.\"\n",
              "              style=\"display:none;\">\n",
              "        \n",
              "  <svg xmlns=\"http://www.w3.org/2000/svg\" height=\"24px\"viewBox=\"0 0 24 24\"\n",
              "       width=\"24px\">\n",
              "    <path d=\"M0 0h24v24H0V0z\" fill=\"none\"/>\n",
              "    <path d=\"M18.56 5.44l.94 2.06.94-2.06 2.06-.94-2.06-.94-.94-2.06-.94 2.06-2.06.94zm-11 1L8.5 8.5l.94-2.06 2.06-.94-2.06-.94L8.5 2.5l-.94 2.06-2.06.94zm10 10l.94 2.06.94-2.06 2.06-.94-2.06-.94-.94-2.06-.94 2.06-2.06.94z\"/><path d=\"M17.41 7.96l-1.37-1.37c-.4-.4-.92-.59-1.43-.59-.52 0-1.04.2-1.43.59L10.3 9.45l-7.72 7.72c-.78.78-.78 2.05 0 2.83L4 21.41c.39.39.9.59 1.41.59.51 0 1.02-.2 1.41-.59l7.78-7.78 2.81-2.81c.8-.78.8-2.07 0-2.86zM5.41 20L4 18.59l7.72-7.72 1.47 1.35L5.41 20z\"/>\n",
              "  </svg>\n",
              "      </button>\n",
              "      \n",
              "  <style>\n",
              "    .colab-df-container {\n",
              "      display:flex;\n",
              "      flex-wrap:wrap;\n",
              "      gap: 12px;\n",
              "    }\n",
              "\n",
              "    .colab-df-convert {\n",
              "      background-color: #E8F0FE;\n",
              "      border: none;\n",
              "      border-radius: 50%;\n",
              "      cursor: pointer;\n",
              "      display: none;\n",
              "      fill: #1967D2;\n",
              "      height: 32px;\n",
              "      padding: 0 0 0 0;\n",
              "      width: 32px;\n",
              "    }\n",
              "\n",
              "    .colab-df-convert:hover {\n",
              "      background-color: #E2EBFA;\n",
              "      box-shadow: 0px 1px 2px rgba(60, 64, 67, 0.3), 0px 1px 3px 1px rgba(60, 64, 67, 0.15);\n",
              "      fill: #174EA6;\n",
              "    }\n",
              "\n",
              "    [theme=dark] .colab-df-convert {\n",
              "      background-color: #3B4455;\n",
              "      fill: #D2E3FC;\n",
              "    }\n",
              "\n",
              "    [theme=dark] .colab-df-convert:hover {\n",
              "      background-color: #434B5C;\n",
              "      box-shadow: 0px 1px 3px 1px rgba(0, 0, 0, 0.15);\n",
              "      filter: drop-shadow(0px 1px 2px rgba(0, 0, 0, 0.3));\n",
              "      fill: #FFFFFF;\n",
              "    }\n",
              "  </style>\n",
              "\n",
              "      <script>\n",
              "        const buttonEl =\n",
              "          document.querySelector('#df-79452f60-17e7-44b7-be7e-1e4e253368d4 button.colab-df-convert');\n",
              "        buttonEl.style.display =\n",
              "          google.colab.kernel.accessAllowed ? 'block' : 'none';\n",
              "\n",
              "        async function convertToInteractive(key) {\n",
              "          const element = document.querySelector('#df-79452f60-17e7-44b7-be7e-1e4e253368d4');\n",
              "          const dataTable =\n",
              "            await google.colab.kernel.invokeFunction('convertToInteractive',\n",
              "                                                     [key], {});\n",
              "          if (!dataTable) return;\n",
              "\n",
              "          const docLinkHtml = 'Like what you see? Visit the ' +\n",
              "            '<a target=\"_blank\" href=https://colab.research.google.com/notebooks/data_table.ipynb>data table notebook</a>'\n",
              "            + ' to learn more about interactive tables.';\n",
              "          element.innerHTML = '';\n",
              "          dataTable['output_type'] = 'display_data';\n",
              "          await google.colab.output.renderOutput(dataTable, element);\n",
              "          const docLink = document.createElement('div');\n",
              "          docLink.innerHTML = docLinkHtml;\n",
              "          element.appendChild(docLink);\n",
              "        }\n",
              "      </script>\n",
              "    </div>\n",
              "  </div>\n",
              "  "
            ]
          },
          "metadata": {},
          "execution_count": 68
        }
      ]
    },
    {
      "cell_type": "code",
      "source": [
        "df_Cab_Data.describe()"
      ],
      "metadata": {
        "colab": {
          "base_uri": "https://localhost:8080/",
          "height": 300
        },
        "id": "hLeIU_j0s_N1",
        "outputId": "edac0ab9-437f-49be-e926-86b5b0592797"
      },
      "execution_count": 69,
      "outputs": [
        {
          "output_type": "execute_result",
          "data": {
            "text/plain": [
              "       Transaction ID  Date of Travel   KM Travelled  Price Charged  \\\n",
              "count    3.593920e+05   359392.000000  359392.000000  359392.000000   \n",
              "mean     1.022076e+07    42964.067998      22.567254     423.443311   \n",
              "std      1.268058e+05      307.467197      12.233526     274.378911   \n",
              "min      1.000001e+07    42371.000000       1.900000      15.600000   \n",
              "25%      1.011081e+07    42697.000000      12.000000     206.437500   \n",
              "50%      1.022104e+07    42988.000000      22.440000     386.360000   \n",
              "75%      1.033094e+07    43232.000000      32.960000     583.660000   \n",
              "max      1.044011e+07    43465.000000      48.000000    2048.030000   \n",
              "\n",
              "        Cost of Trip  \n",
              "count  359392.000000  \n",
              "mean      286.190113  \n",
              "std       157.993661  \n",
              "min        19.000000  \n",
              "25%       151.200000  \n",
              "50%       282.480000  \n",
              "75%       413.683200  \n",
              "max       691.200000  "
            ],
            "text/html": [
              "\n",
              "  <div id=\"df-4baadc8d-a56e-4de7-8078-28785eab44e3\">\n",
              "    <div class=\"colab-df-container\">\n",
              "      <div>\n",
              "<style scoped>\n",
              "    .dataframe tbody tr th:only-of-type {\n",
              "        vertical-align: middle;\n",
              "    }\n",
              "\n",
              "    .dataframe tbody tr th {\n",
              "        vertical-align: top;\n",
              "    }\n",
              "\n",
              "    .dataframe thead th {\n",
              "        text-align: right;\n",
              "    }\n",
              "</style>\n",
              "<table border=\"1\" class=\"dataframe\">\n",
              "  <thead>\n",
              "    <tr style=\"text-align: right;\">\n",
              "      <th></th>\n",
              "      <th>Transaction ID</th>\n",
              "      <th>Date of Travel</th>\n",
              "      <th>KM Travelled</th>\n",
              "      <th>Price Charged</th>\n",
              "      <th>Cost of Trip</th>\n",
              "    </tr>\n",
              "  </thead>\n",
              "  <tbody>\n",
              "    <tr>\n",
              "      <th>count</th>\n",
              "      <td>3.593920e+05</td>\n",
              "      <td>359392.000000</td>\n",
              "      <td>359392.000000</td>\n",
              "      <td>359392.000000</td>\n",
              "      <td>359392.000000</td>\n",
              "    </tr>\n",
              "    <tr>\n",
              "      <th>mean</th>\n",
              "      <td>1.022076e+07</td>\n",
              "      <td>42964.067998</td>\n",
              "      <td>22.567254</td>\n",
              "      <td>423.443311</td>\n",
              "      <td>286.190113</td>\n",
              "    </tr>\n",
              "    <tr>\n",
              "      <th>std</th>\n",
              "      <td>1.268058e+05</td>\n",
              "      <td>307.467197</td>\n",
              "      <td>12.233526</td>\n",
              "      <td>274.378911</td>\n",
              "      <td>157.993661</td>\n",
              "    </tr>\n",
              "    <tr>\n",
              "      <th>min</th>\n",
              "      <td>1.000001e+07</td>\n",
              "      <td>42371.000000</td>\n",
              "      <td>1.900000</td>\n",
              "      <td>15.600000</td>\n",
              "      <td>19.000000</td>\n",
              "    </tr>\n",
              "    <tr>\n",
              "      <th>25%</th>\n",
              "      <td>1.011081e+07</td>\n",
              "      <td>42697.000000</td>\n",
              "      <td>12.000000</td>\n",
              "      <td>206.437500</td>\n",
              "      <td>151.200000</td>\n",
              "    </tr>\n",
              "    <tr>\n",
              "      <th>50%</th>\n",
              "      <td>1.022104e+07</td>\n",
              "      <td>42988.000000</td>\n",
              "      <td>22.440000</td>\n",
              "      <td>386.360000</td>\n",
              "      <td>282.480000</td>\n",
              "    </tr>\n",
              "    <tr>\n",
              "      <th>75%</th>\n",
              "      <td>1.033094e+07</td>\n",
              "      <td>43232.000000</td>\n",
              "      <td>32.960000</td>\n",
              "      <td>583.660000</td>\n",
              "      <td>413.683200</td>\n",
              "    </tr>\n",
              "    <tr>\n",
              "      <th>max</th>\n",
              "      <td>1.044011e+07</td>\n",
              "      <td>43465.000000</td>\n",
              "      <td>48.000000</td>\n",
              "      <td>2048.030000</td>\n",
              "      <td>691.200000</td>\n",
              "    </tr>\n",
              "  </tbody>\n",
              "</table>\n",
              "</div>\n",
              "      <button class=\"colab-df-convert\" onclick=\"convertToInteractive('df-4baadc8d-a56e-4de7-8078-28785eab44e3')\"\n",
              "              title=\"Convert this dataframe to an interactive table.\"\n",
              "              style=\"display:none;\">\n",
              "        \n",
              "  <svg xmlns=\"http://www.w3.org/2000/svg\" height=\"24px\"viewBox=\"0 0 24 24\"\n",
              "       width=\"24px\">\n",
              "    <path d=\"M0 0h24v24H0V0z\" fill=\"none\"/>\n",
              "    <path d=\"M18.56 5.44l.94 2.06.94-2.06 2.06-.94-2.06-.94-.94-2.06-.94 2.06-2.06.94zm-11 1L8.5 8.5l.94-2.06 2.06-.94-2.06-.94L8.5 2.5l-.94 2.06-2.06.94zm10 10l.94 2.06.94-2.06 2.06-.94-2.06-.94-.94-2.06-.94 2.06-2.06.94z\"/><path d=\"M17.41 7.96l-1.37-1.37c-.4-.4-.92-.59-1.43-.59-.52 0-1.04.2-1.43.59L10.3 9.45l-7.72 7.72c-.78.78-.78 2.05 0 2.83L4 21.41c.39.39.9.59 1.41.59.51 0 1.02-.2 1.41-.59l7.78-7.78 2.81-2.81c.8-.78.8-2.07 0-2.86zM5.41 20L4 18.59l7.72-7.72 1.47 1.35L5.41 20z\"/>\n",
              "  </svg>\n",
              "      </button>\n",
              "      \n",
              "  <style>\n",
              "    .colab-df-container {\n",
              "      display:flex;\n",
              "      flex-wrap:wrap;\n",
              "      gap: 12px;\n",
              "    }\n",
              "\n",
              "    .colab-df-convert {\n",
              "      background-color: #E8F0FE;\n",
              "      border: none;\n",
              "      border-radius: 50%;\n",
              "      cursor: pointer;\n",
              "      display: none;\n",
              "      fill: #1967D2;\n",
              "      height: 32px;\n",
              "      padding: 0 0 0 0;\n",
              "      width: 32px;\n",
              "    }\n",
              "\n",
              "    .colab-df-convert:hover {\n",
              "      background-color: #E2EBFA;\n",
              "      box-shadow: 0px 1px 2px rgba(60, 64, 67, 0.3), 0px 1px 3px 1px rgba(60, 64, 67, 0.15);\n",
              "      fill: #174EA6;\n",
              "    }\n",
              "\n",
              "    [theme=dark] .colab-df-convert {\n",
              "      background-color: #3B4455;\n",
              "      fill: #D2E3FC;\n",
              "    }\n",
              "\n",
              "    [theme=dark] .colab-df-convert:hover {\n",
              "      background-color: #434B5C;\n",
              "      box-shadow: 0px 1px 3px 1px rgba(0, 0, 0, 0.15);\n",
              "      filter: drop-shadow(0px 1px 2px rgba(0, 0, 0, 0.3));\n",
              "      fill: #FFFFFF;\n",
              "    }\n",
              "  </style>\n",
              "\n",
              "      <script>\n",
              "        const buttonEl =\n",
              "          document.querySelector('#df-4baadc8d-a56e-4de7-8078-28785eab44e3 button.colab-df-convert');\n",
              "        buttonEl.style.display =\n",
              "          google.colab.kernel.accessAllowed ? 'block' : 'none';\n",
              "\n",
              "        async function convertToInteractive(key) {\n",
              "          const element = document.querySelector('#df-4baadc8d-a56e-4de7-8078-28785eab44e3');\n",
              "          const dataTable =\n",
              "            await google.colab.kernel.invokeFunction('convertToInteractive',\n",
              "                                                     [key], {});\n",
              "          if (!dataTable) return;\n",
              "\n",
              "          const docLinkHtml = 'Like what you see? Visit the ' +\n",
              "            '<a target=\"_blank\" href=https://colab.research.google.com/notebooks/data_table.ipynb>data table notebook</a>'\n",
              "            + ' to learn more about interactive tables.';\n",
              "          element.innerHTML = '';\n",
              "          dataTable['output_type'] = 'display_data';\n",
              "          await google.colab.output.renderOutput(dataTable, element);\n",
              "          const docLink = document.createElement('div');\n",
              "          docLink.innerHTML = docLinkHtml;\n",
              "          element.appendChild(docLink);\n",
              "        }\n",
              "      </script>\n",
              "    </div>\n",
              "  </div>\n",
              "  "
            ]
          },
          "metadata": {},
          "execution_count": 69
        }
      ]
    },
    {
      "cell_type": "code",
      "source": [
        "dfm1 = pd.merge(df_Customer_ID, df_Transaction_ID, how='left', left_on='Customer ID', right_on='Customer ID')\n",
        "fdf = pd.merge(df_Cab_Data , dfm1 , how= 'left' , left_on= 'Transaction ID' , right_on= 'Transaction ID')\n",
        "ffdf = pd.merge(fdf , df_City , how='left' , left_on= 'City' , right_on= 'City')"
      ],
      "metadata": {
        "id": "YYQbFTNKyaK8"
      },
      "execution_count": 70,
      "outputs": []
    },
    {
      "cell_type": "code",
      "source": [
        "ffdf.info()"
      ],
      "metadata": {
        "colab": {
          "base_uri": "https://localhost:8080/"
        },
        "id": "H59dD-1PzArg",
        "outputId": "ba26c5ff-67f5-4123-ead6-4807e503774b"
      },
      "execution_count": 71,
      "outputs": [
        {
          "output_type": "stream",
          "name": "stdout",
          "text": [
            "<class 'pandas.core.frame.DataFrame'>\n",
            "Int64Index: 359392 entries, 0 to 359391\n",
            "Data columns (total 14 columns):\n",
            " #   Column              Non-Null Count   Dtype  \n",
            "---  ------              --------------   -----  \n",
            " 0   Transaction ID      359392 non-null  int64  \n",
            " 1   Date of Travel      359392 non-null  int64  \n",
            " 2   Company             359392 non-null  object \n",
            " 3   City                359392 non-null  object \n",
            " 4   KM Travelled        359392 non-null  float64\n",
            " 5   Price Charged       359392 non-null  float64\n",
            " 6   Cost of Trip        359392 non-null  float64\n",
            " 7   Customer ID         359392 non-null  int64  \n",
            " 8   Gender              359392 non-null  object \n",
            " 9   Age                 359392 non-null  int64  \n",
            " 10  Income (USD/Month)  359392 non-null  int64  \n",
            " 11  Payment_Mode        359392 non-null  object \n",
            " 12  Population          359392 non-null  object \n",
            " 13  Users               359392 non-null  object \n",
            "dtypes: float64(3), int64(5), object(6)\n",
            "memory usage: 41.1+ MB\n"
          ]
        }
      ]
    },
    {
      "cell_type": "code",
      "source": [
        "import datetime as dt\n",
        "pd.TimedeltaIndex(ffdf['Date of Travel'], unit='d') + dt.datetime(1900,1,1)\n",
        "ffdf['Date of Travel'] = pd.TimedeltaIndex(ffdf['Date of Travel'], unit='d') + dt.datetime(1900,1,1)\n",
        "ffdf['Date of Travel'] = pd.DatetimeIndex(ffdf['Date of Travel']).year"
      ],
      "metadata": {
        "id": "rWvs9Vhm0ZMG"
      },
      "execution_count": 72,
      "outputs": []
    },
    {
      "cell_type": "code",
      "source": [
        "ffdf[\"profit\"] = ffdf['Price Charged'] - ffdf['Cost of Trip']"
      ],
      "metadata": {
        "id": "KFbvPDOw0c3b"
      },
      "execution_count": 73,
      "outputs": []
    },
    {
      "cell_type": "code",
      "source": [
        "ffdf = ffdf[[ 'Date of Travel', 'Company', 'City', 'KM Travelled',\n",
        "        'Customer ID', 'Gender', 'Age',\n",
        "       'Income (USD/Month)', 'Payment_Mode', 'Population', 'Users', 'profit']]"
      ],
      "metadata": {
        "id": "Z09DQ0ha0iGz"
      },
      "execution_count": 74,
      "outputs": []
    },
    {
      "cell_type": "code",
      "source": [
        "ffdf"
      ],
      "metadata": {
        "colab": {
          "base_uri": "https://localhost:8080/",
          "height": 423
        },
        "id": "pGCsXLQ6bCim",
        "outputId": "3ac82e4a-8d16-464f-a5c5-a6e6c97bb26b"
      },
      "execution_count": 75,
      "outputs": [
        {
          "output_type": "execute_result",
          "data": {
            "text/plain": [
              "        Date of Travel     Company           City  KM Travelled  Customer ID  \\\n",
              "0                 2016    Pink Cab     ATLANTA GA         30.45        29290   \n",
              "1                 2016    Pink Cab     ATLANTA GA         28.62        27703   \n",
              "2                 2016    Pink Cab     ATLANTA GA          9.04        28712   \n",
              "3                 2016    Pink Cab     ATLANTA GA         33.17        28020   \n",
              "4                 2016    Pink Cab     ATLANTA GA          8.73        27182   \n",
              "...                ...         ...            ...           ...          ...   \n",
              "359387            2018  Yellow Cab  WASHINGTON DC          4.80        52392   \n",
              "359388            2018  Yellow Cab  WASHINGTON DC          8.40        53286   \n",
              "359389            2018  Yellow Cab  WASHINGTON DC         27.75        52265   \n",
              "359390            2018  Yellow Cab  WASHINGTON DC          8.80        52175   \n",
              "359391            2018  Yellow Cab  WASHINGTON DC         12.76        52917   \n",
              "\n",
              "       Gender  Age  Income (USD/Month) Payment_Mode Population      Users  \\\n",
              "0        Male   28               10813         Card   814,885     24,701    \n",
              "1        Male   27                9237         Card   814,885     24,701    \n",
              "2        Male   53               11242         Cash   814,885     24,701    \n",
              "3        Male   23               23327         Cash   814,885     24,701    \n",
              "4        Male   33                8536         Card   814,885     24,701    \n",
              "...       ...  ...                 ...          ...        ...        ...   \n",
              "359387   Male   24               15651         Cash   418,859    127,001    \n",
              "359388   Male   32                6528         Cash   418,859    127,001    \n",
              "359389   Male   56                7966         Cash   418,859    127,001    \n",
              "359390   Male   32                6423         Card   418,859    127,001    \n",
              "359391   Male   20               11284         Card   418,859    127,001    \n",
              "\n",
              "         profit  \n",
              "0       57.3150  \n",
              "1       23.6660  \n",
              "2       27.5680  \n",
              "3       25.7980  \n",
              "4       16.8440  \n",
              "...         ...  \n",
              "359387   5.8800  \n",
              "359388   6.9020  \n",
              "359389  87.4200  \n",
              "359390  32.1420  \n",
              "359391  13.9608  \n",
              "\n",
              "[359392 rows x 12 columns]"
            ],
            "text/html": [
              "\n",
              "  <div id=\"df-2e679e8e-8923-4297-ad68-27b5a77319db\">\n",
              "    <div class=\"colab-df-container\">\n",
              "      <div>\n",
              "<style scoped>\n",
              "    .dataframe tbody tr th:only-of-type {\n",
              "        vertical-align: middle;\n",
              "    }\n",
              "\n",
              "    .dataframe tbody tr th {\n",
              "        vertical-align: top;\n",
              "    }\n",
              "\n",
              "    .dataframe thead th {\n",
              "        text-align: right;\n",
              "    }\n",
              "</style>\n",
              "<table border=\"1\" class=\"dataframe\">\n",
              "  <thead>\n",
              "    <tr style=\"text-align: right;\">\n",
              "      <th></th>\n",
              "      <th>Date of Travel</th>\n",
              "      <th>Company</th>\n",
              "      <th>City</th>\n",
              "      <th>KM Travelled</th>\n",
              "      <th>Customer ID</th>\n",
              "      <th>Gender</th>\n",
              "      <th>Age</th>\n",
              "      <th>Income (USD/Month)</th>\n",
              "      <th>Payment_Mode</th>\n",
              "      <th>Population</th>\n",
              "      <th>Users</th>\n",
              "      <th>profit</th>\n",
              "    </tr>\n",
              "  </thead>\n",
              "  <tbody>\n",
              "    <tr>\n",
              "      <th>0</th>\n",
              "      <td>2016</td>\n",
              "      <td>Pink Cab</td>\n",
              "      <td>ATLANTA GA</td>\n",
              "      <td>30.45</td>\n",
              "      <td>29290</td>\n",
              "      <td>Male</td>\n",
              "      <td>28</td>\n",
              "      <td>10813</td>\n",
              "      <td>Card</td>\n",
              "      <td>814,885</td>\n",
              "      <td>24,701</td>\n",
              "      <td>57.3150</td>\n",
              "    </tr>\n",
              "    <tr>\n",
              "      <th>1</th>\n",
              "      <td>2016</td>\n",
              "      <td>Pink Cab</td>\n",
              "      <td>ATLANTA GA</td>\n",
              "      <td>28.62</td>\n",
              "      <td>27703</td>\n",
              "      <td>Male</td>\n",
              "      <td>27</td>\n",
              "      <td>9237</td>\n",
              "      <td>Card</td>\n",
              "      <td>814,885</td>\n",
              "      <td>24,701</td>\n",
              "      <td>23.6660</td>\n",
              "    </tr>\n",
              "    <tr>\n",
              "      <th>2</th>\n",
              "      <td>2016</td>\n",
              "      <td>Pink Cab</td>\n",
              "      <td>ATLANTA GA</td>\n",
              "      <td>9.04</td>\n",
              "      <td>28712</td>\n",
              "      <td>Male</td>\n",
              "      <td>53</td>\n",
              "      <td>11242</td>\n",
              "      <td>Cash</td>\n",
              "      <td>814,885</td>\n",
              "      <td>24,701</td>\n",
              "      <td>27.5680</td>\n",
              "    </tr>\n",
              "    <tr>\n",
              "      <th>3</th>\n",
              "      <td>2016</td>\n",
              "      <td>Pink Cab</td>\n",
              "      <td>ATLANTA GA</td>\n",
              "      <td>33.17</td>\n",
              "      <td>28020</td>\n",
              "      <td>Male</td>\n",
              "      <td>23</td>\n",
              "      <td>23327</td>\n",
              "      <td>Cash</td>\n",
              "      <td>814,885</td>\n",
              "      <td>24,701</td>\n",
              "      <td>25.7980</td>\n",
              "    </tr>\n",
              "    <tr>\n",
              "      <th>4</th>\n",
              "      <td>2016</td>\n",
              "      <td>Pink Cab</td>\n",
              "      <td>ATLANTA GA</td>\n",
              "      <td>8.73</td>\n",
              "      <td>27182</td>\n",
              "      <td>Male</td>\n",
              "      <td>33</td>\n",
              "      <td>8536</td>\n",
              "      <td>Card</td>\n",
              "      <td>814,885</td>\n",
              "      <td>24,701</td>\n",
              "      <td>16.8440</td>\n",
              "    </tr>\n",
              "    <tr>\n",
              "      <th>...</th>\n",
              "      <td>...</td>\n",
              "      <td>...</td>\n",
              "      <td>...</td>\n",
              "      <td>...</td>\n",
              "      <td>...</td>\n",
              "      <td>...</td>\n",
              "      <td>...</td>\n",
              "      <td>...</td>\n",
              "      <td>...</td>\n",
              "      <td>...</td>\n",
              "      <td>...</td>\n",
              "      <td>...</td>\n",
              "    </tr>\n",
              "    <tr>\n",
              "      <th>359387</th>\n",
              "      <td>2018</td>\n",
              "      <td>Yellow Cab</td>\n",
              "      <td>WASHINGTON DC</td>\n",
              "      <td>4.80</td>\n",
              "      <td>52392</td>\n",
              "      <td>Male</td>\n",
              "      <td>24</td>\n",
              "      <td>15651</td>\n",
              "      <td>Cash</td>\n",
              "      <td>418,859</td>\n",
              "      <td>127,001</td>\n",
              "      <td>5.8800</td>\n",
              "    </tr>\n",
              "    <tr>\n",
              "      <th>359388</th>\n",
              "      <td>2018</td>\n",
              "      <td>Yellow Cab</td>\n",
              "      <td>WASHINGTON DC</td>\n",
              "      <td>8.40</td>\n",
              "      <td>53286</td>\n",
              "      <td>Male</td>\n",
              "      <td>32</td>\n",
              "      <td>6528</td>\n",
              "      <td>Cash</td>\n",
              "      <td>418,859</td>\n",
              "      <td>127,001</td>\n",
              "      <td>6.9020</td>\n",
              "    </tr>\n",
              "    <tr>\n",
              "      <th>359389</th>\n",
              "      <td>2018</td>\n",
              "      <td>Yellow Cab</td>\n",
              "      <td>WASHINGTON DC</td>\n",
              "      <td>27.75</td>\n",
              "      <td>52265</td>\n",
              "      <td>Male</td>\n",
              "      <td>56</td>\n",
              "      <td>7966</td>\n",
              "      <td>Cash</td>\n",
              "      <td>418,859</td>\n",
              "      <td>127,001</td>\n",
              "      <td>87.4200</td>\n",
              "    </tr>\n",
              "    <tr>\n",
              "      <th>359390</th>\n",
              "      <td>2018</td>\n",
              "      <td>Yellow Cab</td>\n",
              "      <td>WASHINGTON DC</td>\n",
              "      <td>8.80</td>\n",
              "      <td>52175</td>\n",
              "      <td>Male</td>\n",
              "      <td>32</td>\n",
              "      <td>6423</td>\n",
              "      <td>Card</td>\n",
              "      <td>418,859</td>\n",
              "      <td>127,001</td>\n",
              "      <td>32.1420</td>\n",
              "    </tr>\n",
              "    <tr>\n",
              "      <th>359391</th>\n",
              "      <td>2018</td>\n",
              "      <td>Yellow Cab</td>\n",
              "      <td>WASHINGTON DC</td>\n",
              "      <td>12.76</td>\n",
              "      <td>52917</td>\n",
              "      <td>Male</td>\n",
              "      <td>20</td>\n",
              "      <td>11284</td>\n",
              "      <td>Card</td>\n",
              "      <td>418,859</td>\n",
              "      <td>127,001</td>\n",
              "      <td>13.9608</td>\n",
              "    </tr>\n",
              "  </tbody>\n",
              "</table>\n",
              "<p>359392 rows × 12 columns</p>\n",
              "</div>\n",
              "      <button class=\"colab-df-convert\" onclick=\"convertToInteractive('df-2e679e8e-8923-4297-ad68-27b5a77319db')\"\n",
              "              title=\"Convert this dataframe to an interactive table.\"\n",
              "              style=\"display:none;\">\n",
              "        \n",
              "  <svg xmlns=\"http://www.w3.org/2000/svg\" height=\"24px\"viewBox=\"0 0 24 24\"\n",
              "       width=\"24px\">\n",
              "    <path d=\"M0 0h24v24H0V0z\" fill=\"none\"/>\n",
              "    <path d=\"M18.56 5.44l.94 2.06.94-2.06 2.06-.94-2.06-.94-.94-2.06-.94 2.06-2.06.94zm-11 1L8.5 8.5l.94-2.06 2.06-.94-2.06-.94L8.5 2.5l-.94 2.06-2.06.94zm10 10l.94 2.06.94-2.06 2.06-.94-2.06-.94-.94-2.06-.94 2.06-2.06.94z\"/><path d=\"M17.41 7.96l-1.37-1.37c-.4-.4-.92-.59-1.43-.59-.52 0-1.04.2-1.43.59L10.3 9.45l-7.72 7.72c-.78.78-.78 2.05 0 2.83L4 21.41c.39.39.9.59 1.41.59.51 0 1.02-.2 1.41-.59l7.78-7.78 2.81-2.81c.8-.78.8-2.07 0-2.86zM5.41 20L4 18.59l7.72-7.72 1.47 1.35L5.41 20z\"/>\n",
              "  </svg>\n",
              "      </button>\n",
              "      \n",
              "  <style>\n",
              "    .colab-df-container {\n",
              "      display:flex;\n",
              "      flex-wrap:wrap;\n",
              "      gap: 12px;\n",
              "    }\n",
              "\n",
              "    .colab-df-convert {\n",
              "      background-color: #E8F0FE;\n",
              "      border: none;\n",
              "      border-radius: 50%;\n",
              "      cursor: pointer;\n",
              "      display: none;\n",
              "      fill: #1967D2;\n",
              "      height: 32px;\n",
              "      padding: 0 0 0 0;\n",
              "      width: 32px;\n",
              "    }\n",
              "\n",
              "    .colab-df-convert:hover {\n",
              "      background-color: #E2EBFA;\n",
              "      box-shadow: 0px 1px 2px rgba(60, 64, 67, 0.3), 0px 1px 3px 1px rgba(60, 64, 67, 0.15);\n",
              "      fill: #174EA6;\n",
              "    }\n",
              "\n",
              "    [theme=dark] .colab-df-convert {\n",
              "      background-color: #3B4455;\n",
              "      fill: #D2E3FC;\n",
              "    }\n",
              "\n",
              "    [theme=dark] .colab-df-convert:hover {\n",
              "      background-color: #434B5C;\n",
              "      box-shadow: 0px 1px 3px 1px rgba(0, 0, 0, 0.15);\n",
              "      filter: drop-shadow(0px 1px 2px rgba(0, 0, 0, 0.3));\n",
              "      fill: #FFFFFF;\n",
              "    }\n",
              "  </style>\n",
              "\n",
              "      <script>\n",
              "        const buttonEl =\n",
              "          document.querySelector('#df-2e679e8e-8923-4297-ad68-27b5a77319db button.colab-df-convert');\n",
              "        buttonEl.style.display =\n",
              "          google.colab.kernel.accessAllowed ? 'block' : 'none';\n",
              "\n",
              "        async function convertToInteractive(key) {\n",
              "          const element = document.querySelector('#df-2e679e8e-8923-4297-ad68-27b5a77319db');\n",
              "          const dataTable =\n",
              "            await google.colab.kernel.invokeFunction('convertToInteractive',\n",
              "                                                     [key], {});\n",
              "          if (!dataTable) return;\n",
              "\n",
              "          const docLinkHtml = 'Like what you see? Visit the ' +\n",
              "            '<a target=\"_blank\" href=https://colab.research.google.com/notebooks/data_table.ipynb>data table notebook</a>'\n",
              "            + ' to learn more about interactive tables.';\n",
              "          element.innerHTML = '';\n",
              "          dataTable['output_type'] = 'display_data';\n",
              "          await google.colab.output.renderOutput(dataTable, element);\n",
              "          const docLink = document.createElement('div');\n",
              "          docLink.innerHTML = docLinkHtml;\n",
              "          element.appendChild(docLink);\n",
              "        }\n",
              "      </script>\n",
              "    </div>\n",
              "  </div>\n",
              "  "
            ]
          },
          "metadata": {},
          "execution_count": 75
        }
      ]
    },
    {
      "cell_type": "code",
      "source": [
        "ffdf.info()"
      ],
      "metadata": {
        "colab": {
          "base_uri": "https://localhost:8080/"
        },
        "id": "cghErxaubGVc",
        "outputId": "d4992085-f538-43ee-94bc-5beb8f7f26b6"
      },
      "execution_count": 76,
      "outputs": [
        {
          "output_type": "stream",
          "name": "stdout",
          "text": [
            "<class 'pandas.core.frame.DataFrame'>\n",
            "Int64Index: 359392 entries, 0 to 359391\n",
            "Data columns (total 12 columns):\n",
            " #   Column              Non-Null Count   Dtype  \n",
            "---  ------              --------------   -----  \n",
            " 0   Date of Travel      359392 non-null  int64  \n",
            " 1   Company             359392 non-null  object \n",
            " 2   City                359392 non-null  object \n",
            " 3   KM Travelled        359392 non-null  float64\n",
            " 4   Customer ID         359392 non-null  int64  \n",
            " 5   Gender              359392 non-null  object \n",
            " 6   Age                 359392 non-null  int64  \n",
            " 7   Income (USD/Month)  359392 non-null  int64  \n",
            " 8   Payment_Mode        359392 non-null  object \n",
            " 9   Population          359392 non-null  object \n",
            " 10  Users               359392 non-null  object \n",
            " 11  profit              359392 non-null  float64\n",
            "dtypes: float64(2), int64(4), object(6)\n",
            "memory usage: 35.6+ MB\n"
          ]
        }
      ]
    },
    {
      "cell_type": "code",
      "source": [
        "ffdf.describe()"
      ],
      "metadata": {
        "colab": {
          "base_uri": "https://localhost:8080/",
          "height": 300
        },
        "id": "aRfDtK8fbGSd",
        "outputId": "e8c2b285-e354-4777-9a12-4224d34288dc"
      },
      "execution_count": 77,
      "outputs": [
        {
          "output_type": "execute_result",
          "data": {
            "text/plain": [
              "       Date of Travel   KM Travelled    Customer ID            Age  \\\n",
              "count   359392.000000  359392.000000  359392.000000  359392.000000   \n",
              "mean      2017.052628      22.567254   19191.652115      35.336705   \n",
              "std          0.802452      12.233526   21012.412463      12.594234   \n",
              "min       2016.000000       1.900000       1.000000      18.000000   \n",
              "25%       2016.000000      12.000000    2705.000000      25.000000   \n",
              "50%       2017.000000      22.440000    7459.000000      33.000000   \n",
              "75%       2018.000000      32.960000   36078.000000      42.000000   \n",
              "max       2019.000000      48.000000   60000.000000      65.000000   \n",
              "\n",
              "       Income (USD/Month)         profit  \n",
              "count       359392.000000  359392.000000  \n",
              "mean         15048.822937     137.253198  \n",
              "std           7969.409482     160.311840  \n",
              "min           2000.000000    -220.060000  \n",
              "25%           8424.000000      28.012000  \n",
              "50%          14685.000000      81.962000  \n",
              "75%          21035.000000     190.030000  \n",
              "max          35000.000000    1463.966000  "
            ],
            "text/html": [
              "\n",
              "  <div id=\"df-ecb23564-1fa5-401a-bcab-6d2213f8d177\">\n",
              "    <div class=\"colab-df-container\">\n",
              "      <div>\n",
              "<style scoped>\n",
              "    .dataframe tbody tr th:only-of-type {\n",
              "        vertical-align: middle;\n",
              "    }\n",
              "\n",
              "    .dataframe tbody tr th {\n",
              "        vertical-align: top;\n",
              "    }\n",
              "\n",
              "    .dataframe thead th {\n",
              "        text-align: right;\n",
              "    }\n",
              "</style>\n",
              "<table border=\"1\" class=\"dataframe\">\n",
              "  <thead>\n",
              "    <tr style=\"text-align: right;\">\n",
              "      <th></th>\n",
              "      <th>Date of Travel</th>\n",
              "      <th>KM Travelled</th>\n",
              "      <th>Customer ID</th>\n",
              "      <th>Age</th>\n",
              "      <th>Income (USD/Month)</th>\n",
              "      <th>profit</th>\n",
              "    </tr>\n",
              "  </thead>\n",
              "  <tbody>\n",
              "    <tr>\n",
              "      <th>count</th>\n",
              "      <td>359392.000000</td>\n",
              "      <td>359392.000000</td>\n",
              "      <td>359392.000000</td>\n",
              "      <td>359392.000000</td>\n",
              "      <td>359392.000000</td>\n",
              "      <td>359392.000000</td>\n",
              "    </tr>\n",
              "    <tr>\n",
              "      <th>mean</th>\n",
              "      <td>2017.052628</td>\n",
              "      <td>22.567254</td>\n",
              "      <td>19191.652115</td>\n",
              "      <td>35.336705</td>\n",
              "      <td>15048.822937</td>\n",
              "      <td>137.253198</td>\n",
              "    </tr>\n",
              "    <tr>\n",
              "      <th>std</th>\n",
              "      <td>0.802452</td>\n",
              "      <td>12.233526</td>\n",
              "      <td>21012.412463</td>\n",
              "      <td>12.594234</td>\n",
              "      <td>7969.409482</td>\n",
              "      <td>160.311840</td>\n",
              "    </tr>\n",
              "    <tr>\n",
              "      <th>min</th>\n",
              "      <td>2016.000000</td>\n",
              "      <td>1.900000</td>\n",
              "      <td>1.000000</td>\n",
              "      <td>18.000000</td>\n",
              "      <td>2000.000000</td>\n",
              "      <td>-220.060000</td>\n",
              "    </tr>\n",
              "    <tr>\n",
              "      <th>25%</th>\n",
              "      <td>2016.000000</td>\n",
              "      <td>12.000000</td>\n",
              "      <td>2705.000000</td>\n",
              "      <td>25.000000</td>\n",
              "      <td>8424.000000</td>\n",
              "      <td>28.012000</td>\n",
              "    </tr>\n",
              "    <tr>\n",
              "      <th>50%</th>\n",
              "      <td>2017.000000</td>\n",
              "      <td>22.440000</td>\n",
              "      <td>7459.000000</td>\n",
              "      <td>33.000000</td>\n",
              "      <td>14685.000000</td>\n",
              "      <td>81.962000</td>\n",
              "    </tr>\n",
              "    <tr>\n",
              "      <th>75%</th>\n",
              "      <td>2018.000000</td>\n",
              "      <td>32.960000</td>\n",
              "      <td>36078.000000</td>\n",
              "      <td>42.000000</td>\n",
              "      <td>21035.000000</td>\n",
              "      <td>190.030000</td>\n",
              "    </tr>\n",
              "    <tr>\n",
              "      <th>max</th>\n",
              "      <td>2019.000000</td>\n",
              "      <td>48.000000</td>\n",
              "      <td>60000.000000</td>\n",
              "      <td>65.000000</td>\n",
              "      <td>35000.000000</td>\n",
              "      <td>1463.966000</td>\n",
              "    </tr>\n",
              "  </tbody>\n",
              "</table>\n",
              "</div>\n",
              "      <button class=\"colab-df-convert\" onclick=\"convertToInteractive('df-ecb23564-1fa5-401a-bcab-6d2213f8d177')\"\n",
              "              title=\"Convert this dataframe to an interactive table.\"\n",
              "              style=\"display:none;\">\n",
              "        \n",
              "  <svg xmlns=\"http://www.w3.org/2000/svg\" height=\"24px\"viewBox=\"0 0 24 24\"\n",
              "       width=\"24px\">\n",
              "    <path d=\"M0 0h24v24H0V0z\" fill=\"none\"/>\n",
              "    <path d=\"M18.56 5.44l.94 2.06.94-2.06 2.06-.94-2.06-.94-.94-2.06-.94 2.06-2.06.94zm-11 1L8.5 8.5l.94-2.06 2.06-.94-2.06-.94L8.5 2.5l-.94 2.06-2.06.94zm10 10l.94 2.06.94-2.06 2.06-.94-2.06-.94-.94-2.06-.94 2.06-2.06.94z\"/><path d=\"M17.41 7.96l-1.37-1.37c-.4-.4-.92-.59-1.43-.59-.52 0-1.04.2-1.43.59L10.3 9.45l-7.72 7.72c-.78.78-.78 2.05 0 2.83L4 21.41c.39.39.9.59 1.41.59.51 0 1.02-.2 1.41-.59l7.78-7.78 2.81-2.81c.8-.78.8-2.07 0-2.86zM5.41 20L4 18.59l7.72-7.72 1.47 1.35L5.41 20z\"/>\n",
              "  </svg>\n",
              "      </button>\n",
              "      \n",
              "  <style>\n",
              "    .colab-df-container {\n",
              "      display:flex;\n",
              "      flex-wrap:wrap;\n",
              "      gap: 12px;\n",
              "    }\n",
              "\n",
              "    .colab-df-convert {\n",
              "      background-color: #E8F0FE;\n",
              "      border: none;\n",
              "      border-radius: 50%;\n",
              "      cursor: pointer;\n",
              "      display: none;\n",
              "      fill: #1967D2;\n",
              "      height: 32px;\n",
              "      padding: 0 0 0 0;\n",
              "      width: 32px;\n",
              "    }\n",
              "\n",
              "    .colab-df-convert:hover {\n",
              "      background-color: #E2EBFA;\n",
              "      box-shadow: 0px 1px 2px rgba(60, 64, 67, 0.3), 0px 1px 3px 1px rgba(60, 64, 67, 0.15);\n",
              "      fill: #174EA6;\n",
              "    }\n",
              "\n",
              "    [theme=dark] .colab-df-convert {\n",
              "      background-color: #3B4455;\n",
              "      fill: #D2E3FC;\n",
              "    }\n",
              "\n",
              "    [theme=dark] .colab-df-convert:hover {\n",
              "      background-color: #434B5C;\n",
              "      box-shadow: 0px 1px 3px 1px rgba(0, 0, 0, 0.15);\n",
              "      filter: drop-shadow(0px 1px 2px rgba(0, 0, 0, 0.3));\n",
              "      fill: #FFFFFF;\n",
              "    }\n",
              "  </style>\n",
              "\n",
              "      <script>\n",
              "        const buttonEl =\n",
              "          document.querySelector('#df-ecb23564-1fa5-401a-bcab-6d2213f8d177 button.colab-df-convert');\n",
              "        buttonEl.style.display =\n",
              "          google.colab.kernel.accessAllowed ? 'block' : 'none';\n",
              "\n",
              "        async function convertToInteractive(key) {\n",
              "          const element = document.querySelector('#df-ecb23564-1fa5-401a-bcab-6d2213f8d177');\n",
              "          const dataTable =\n",
              "            await google.colab.kernel.invokeFunction('convertToInteractive',\n",
              "                                                     [key], {});\n",
              "          if (!dataTable) return;\n",
              "\n",
              "          const docLinkHtml = 'Like what you see? Visit the ' +\n",
              "            '<a target=\"_blank\" href=https://colab.research.google.com/notebooks/data_table.ipynb>data table notebook</a>'\n",
              "            + ' to learn more about interactive tables.';\n",
              "          element.innerHTML = '';\n",
              "          dataTable['output_type'] = 'display_data';\n",
              "          await google.colab.output.renderOutput(dataTable, element);\n",
              "          const docLink = document.createElement('div');\n",
              "          docLink.innerHTML = docLinkHtml;\n",
              "          element.appendChild(docLink);\n",
              "        }\n",
              "      </script>\n",
              "    </div>\n",
              "  </div>\n",
              "  "
            ]
          },
          "metadata": {},
          "execution_count": 77
        }
      ]
    },
    {
      "cell_type": "code",
      "source": [
        "ffdf.hist(figsize= (10 , 12))"
      ],
      "metadata": {
        "colab": {
          "base_uri": "https://localhost:8080/",
          "height": 838
        },
        "id": "igiGGUUGbGPu",
        "outputId": "4b95ef4e-9aad-4d2c-a89b-3448ac388737"
      },
      "execution_count": 78,
      "outputs": [
        {
          "output_type": "execute_result",
          "data": {
            "text/plain": [
              "array([[<matplotlib.axes._subplots.AxesSubplot object at 0x7fa30c2de690>,\n",
              "        <matplotlib.axes._subplots.AxesSubplot object at 0x7fa30c22bf90>],\n",
              "       [<matplotlib.axes._subplots.AxesSubplot object at 0x7fa30c1e2310>,\n",
              "        <matplotlib.axes._subplots.AxesSubplot object at 0x7fa30c214910>],\n",
              "       [<matplotlib.axes._subplots.AxesSubplot object at 0x7fa30c1c6f10>,\n",
              "        <matplotlib.axes._subplots.AxesSubplot object at 0x7fa30c1894d0>]],\n",
              "      dtype=object)"
            ]
          },
          "metadata": {},
          "execution_count": 78
        },
        {
          "output_type": "display_data",
          "data": {
            "text/plain": [
              "<Figure size 720x864 with 6 Axes>"
            ],
            "image/png": "[encoded data removed]"
          },
          "metadata": {
            "needs_background": "light"
          }
        }
      ]
    },
    {
      "cell_type": "code",
      "source": [
        "ffdf.columns"
      ],
      "metadata": {
        "colab": {
          "base_uri": "https://localhost:8080/"
        },
        "id": "7L9wFYyJbGIM",
        "outputId": "a0b11995-87f8-4466-c1e7-518dc6def2ec"
      },
      "execution_count": 79,
      "outputs": [
        {
          "output_type": "execute_result",
          "data": {
            "text/plain": [
              "Index(['Date of Travel', 'Company', 'City', 'KM Travelled', 'Customer ID',\n",
              "       'Gender', 'Age', 'Income (USD/Month)', 'Payment_Mode', 'Population',\n",
              "       'Users', 'profit'],\n",
              "      dtype='object')"
            ]
          },
          "metadata": {},
          "execution_count": 79
        }
      ]
    },
    {
      "cell_type": "code",
      "source": [
        "ffdf['Payment_Mode'].value_counts()"
      ],
      "metadata": {
        "colab": {
          "base_uri": "https://localhost:8080/"
        },
        "id": "XcSBm8G2bOeO",
        "outputId": "b897a822-4149-44f0-e899-0424b5e10075"
      },
      "execution_count": 80,
      "outputs": [
        {
          "output_type": "execute_result",
          "data": {
            "text/plain": [
              "Card    215504\n",
              "Cash    143888\n",
              "Name: Payment_Mode, dtype: int64"
            ]
          },
          "metadata": {},
          "execution_count": 80
        }
      ]
    },
    {
      "cell_type": "code",
      "source": [
        "ffdf['Gender'].value_counts()"
      ],
      "metadata": {
        "colab": {
          "base_uri": "https://localhost:8080/"
        },
        "id": "_fEpM92YbObs",
        "outputId": "3cb778b5-c92c-450d-ab93-05b6ceec1090"
      },
      "execution_count": 81,
      "outputs": [
        {
          "output_type": "execute_result",
          "data": {
            "text/plain": [
              "Male      205912\n",
              "Female    153480\n",
              "Name: Gender, dtype: int64"
            ]
          },
          "metadata": {},
          "execution_count": 81
        }
      ]
    },
    {
      "cell_type": "code",
      "source": [
        "ffdf['Gender'].value_counts().plot(kind='pie')\n"
      ],
      "metadata": {
        "colab": {
          "base_uri": "https://localhost:8080/",
          "height": 266
        },
        "id": "Cs3KYpo4bOZd",
        "outputId": "a06d65c4-eed6-47c4-8c6a-a36918459e44"
      },
      "execution_count": 82,
      "outputs": [
        {
          "output_type": "execute_result",
          "data": {
            "text/plain": [
              "<matplotlib.axes._subplots.AxesSubplot at 0x7fa30beefd50>"
            ]
          },
          "metadata": {},
          "execution_count": 82
        },
        {
          "output_type": "display_data",
          "data": {
            "text/plain": [
              "<Figure size 432x288 with 1 Axes>"
            ],
            "image/png": "[encoded data removed]"
          },
          "metadata": {}
        }
      ]
    },
    {
      "cell_type": "code",
      "source": [
        "ffdf['City'].value_counts()"
      ],
      "metadata": {
        "colab": {
          "base_uri": "https://localhost:8080/"
        },
        "id": "MCr-tw3QbOXE",
        "outputId": "9312a15a-8db8-4870-efd2-32bb65b65b7c"
      },
      "execution_count": 83,
      "outputs": [
        {
          "output_type": "execute_result",
          "data": {
            "text/plain": [
              "NEW YORK NY       99885\n",
              "CHICAGO IL        56625\n",
              "LOS ANGELES CA    48033\n",
              "WASHINGTON DC     43737\n",
              "BOSTON MA         29692\n",
              "SAN DIEGO CA      20488\n",
              "SILICON VALLEY     8519\n",
              "SEATTLE WA         7997\n",
              "ATLANTA GA         7557\n",
              "DALLAS TX          7017\n",
              "MIAMI FL           6454\n",
              "AUSTIN TX          4896\n",
              "ORANGE COUNTY      3982\n",
              "DENVER CO          3825\n",
              "NASHVILLE TN       3010\n",
              "SACRAMENTO CA      2367\n",
              "PHOENIX AZ         2064\n",
              "TUCSON AZ          1931\n",
              "PITTSBURGH PA      1313\n",
              "Name: City, dtype: int64"
            ]
          },
          "metadata": {},
          "execution_count": 83
        }
      ]
    },
    {
      "cell_type": "code",
      "source": [
        "ffdf['City'].value_counts().plot(kind='bar')\n"
      ],
      "metadata": {
        "colab": {
          "base_uri": "https://localhost:8080/",
          "height": 360
        },
        "id": "xp9ibdzHbOU1",
        "outputId": "4e69b2aa-b0a9-4911-c7fb-6ec9e9eb0fb9"
      },
      "execution_count": 84,
      "outputs": [
        {
          "output_type": "execute_result",
          "data": {
            "text/plain": [
              "<matplotlib.axes._subplots.AxesSubplot at 0x7fa30bf98f50>"
            ]
          },
          "metadata": {},
          "execution_count": 84
        },
        {
          "output_type": "display_data",
          "data": {
            "text/plain": [
              "<Figure size 432x288 with 1 Axes>"
            ],
            "image/png": "[encoded data removed]"
          },
          "metadata": {
            "needs_background": "light"
          }
        }
      ]
    },
    {
      "cell_type": "code",
      "source": [
        "ffdf['profit']"
      ],
      "metadata": {
        "colab": {
          "base_uri": "https://localhost:8080/"
        },
        "id": "Kq7XOgt5bTFz",
        "outputId": "9c9637b2-d7fb-4df0-f1ab-c0d79fd7aa0b"
      },
      "execution_count": 85,
      "outputs": [
        {
          "output_type": "execute_result",
          "data": {
            "text/plain": [
              "0         57.3150\n",
              "1         23.6660\n",
              "2         27.5680\n",
              "3         25.7980\n",
              "4         16.8440\n",
              "           ...   \n",
              "359387     5.8800\n",
              "359388     6.9020\n",
              "359389    87.4200\n",
              "359390    32.1420\n",
              "359391    13.9608\n",
              "Name: profit, Length: 359392, dtype: float64"
            ]
          },
          "metadata": {},
          "execution_count": 85
        }
      ]
    },
    {
      "cell_type": "code",
      "source": [
        "sum(ffdf['profit'])"
      ],
      "metadata": {
        "colab": {
          "base_uri": "https://localhost:8080/"
        },
        "id": "XCvXhcxZbS-8",
        "outputId": "9c42f12b-8641-4033-8b3e-e83f8f248cab"
      },
      "execution_count": 86,
      "outputs": [
        {
          "output_type": "execute_result",
          "data": {
            "text/plain": [
              "49327701.491800345"
            ]
          },
          "metadata": {},
          "execution_count": 86
        }
      ]
    },
    {
      "cell_type": "code",
      "source": [
        "for x in (2016 , 2017 , 2018 , 2019):\n",
        "  print(\"profits in \" , x , \" : \" ,  np.sum(ffdf[ffdf['Date of Travel'] == x]['profit']))\n"
      ],
      "metadata": {
        "colab": {
          "base_uri": "https://localhost:8080/"
        },
        "id": "iQf_fHmobS8c",
        "outputId": "6504efaf-acb8-4806-ef88-8cccc9a2d0b6"
      },
      "execution_count": 87,
      "outputs": [
        {
          "output_type": "stream",
          "name": "stdout",
          "text": [
            "profits in  2016  :  15473393.464199997\n",
            "profits in  2017  :  18620049.1972\n",
            "profits in  2018  :  15188433.940000001\n",
            "profits in  2019  :  45824.890400000004\n"
          ]
        }
      ]
    },
    {
      "cell_type": "code",
      "source": [
        ""
      ],
      "metadata": {
        "id": "U3XKFiUxbOSc"
      },
      "execution_count": 87,
      "outputs": []
    },
    {
      "cell_type": "code",
      "source": [
        "pinkcab = ffdf[ffdf['Company'] == \"Pink Cab\"]"
      ],
      "metadata": {
        "id": "49nwcvm_bc6W"
      },
      "execution_count": 88,
      "outputs": []
    },
    {
      "cell_type": "code",
      "source": [
        "yellowcab = ffdf[ffdf['Company'] == \"Yellow Cab\"]"
      ],
      "metadata": {
        "id": "GMFqhmMPbc4F"
      },
      "execution_count": 89,
      "outputs": []
    },
    {
      "cell_type": "code",
      "source": [
        "yc16 = yellowcab[yellowcab['Date of Travel'] == 2016]\n",
        "yc17 = yellowcab[yellowcab['Date of Travel'] == 2017]\n",
        "yc18 = yellowcab[yellowcab['Date of Travel'] == 2018]\n",
        "yc19 = yellowcab[yellowcab['Date of Travel'] == 2019]"
      ],
      "metadata": {
        "id": "c45rIFyNbc1k"
      },
      "execution_count": 90,
      "outputs": []
    },
    {
      "cell_type": "code",
      "source": [
        "pc16 = pinkcab[pinkcab['Date of Travel'] == 2016]\n",
        "pc17 = pinkcab[pinkcab['Date of Travel'] == 2017]\n",
        "pc18 = pinkcab[pinkcab['Date of Travel'] == 2018]\n",
        "pc19 = pinkcab[pinkcab['Date of Travel'] == 2019]"
      ],
      "metadata": {
        "id": "3iq4YH3DbczV"
      },
      "execution_count": 91,
      "outputs": []
    },
    {
      "cell_type": "code",
      "source": [
        "yc6 = np.sum(yc16['profit'].values)\n",
        "yc7 = np.sum(yc17['profit'].values)\n",
        "yc8 = np.sum(yc18['profit'].values)\n",
        "\n",
        "index = [ 1]\n",
        "df = pd.DataFrame({'2016': yc6,\n",
        "                   '2017': yc7 ,\n",
        "                   '2018' : yc8 ,\n",
        "                   } , index = index)\n",
        "\n",
        "ax = df.plot.bar(stacked=False)"
      ],
      "metadata": {
        "colab": {
          "base_uri": "https://localhost:8080/",
          "height": 273
        },
        "id": "MZhAL7sSbcwU",
        "outputId": "9cc808b0-4f8f-406e-c071-2dcf92605b5d"
      },
      "execution_count": 92,
      "outputs": [
        {
          "output_type": "display_data",
          "data": {
            "text/plain": [
              "<Figure size 432x288 with 1 Axes>"
            ],
            "image/png": "[encoded data removed]"
          },
          "metadata": {
            "needs_background": "light"
          }
        }
      ]
    },
    {
      "cell_type": "code",
      "source": [
        "pc6 = np.sum(pc16['profit'].values)\n",
        "pc7 = np.sum(pc17['profit'].values)\n",
        "pc8 = np.sum(pc18['profit'].values)\n",
        "\n",
        "\n",
        "index = [ 1]\n",
        "df = pd.DataFrame({'2016': pc6,\n",
        "                   '2017': pc7 ,\n",
        "                   '2018' : pc8 ,\n",
        "                  } , index = index)\n",
        "\n",
        "ax = df.plot.bar(stacked=False)"
      ],
      "metadata": {
        "colab": {
          "base_uri": "https://localhost:8080/",
          "height": 273
        },
        "id": "ThnRUe2EbjOj",
        "outputId": "640fe2ff-5acc-43ad-b722-a87d3127a314"
      },
      "execution_count": 93,
      "outputs": [
        {
          "output_type": "display_data",
          "data": {
            "text/plain": [
              "<Figure size 432x288 with 1 Axes>"
            ],
            "image/png": "[encoded data removed]"
          },
          "metadata": {
            "needs_background": "light"
          }
        }
      ]
    },
    {
      "cell_type": "code",
      "source": [
        "yelp = np.sum(yellowcab['profit'].values)\n",
        "pinp = np.sum(pinkcab['profit'].values)\n",
        "\n",
        "\n",
        "index = [ 1]\n",
        "df = pd.DataFrame({'yeloww': yelp,\n",
        "                   'pinc': pinp ,\n",
        "                   } , index = index)\n",
        "df.to_excel(\"dfv.xlsx\")\n",
        "ax = df.plot.bar(stacked=False)"
      ],
      "metadata": {
        "colab": {
          "base_uri": "https://localhost:8080/",
          "height": 273
        },
        "id": "miTf5_NmbjM-",
        "outputId": "db33bb41-0ae3-441a-8f6f-cc689b70bfdd"
      },
      "execution_count": 94,
      "outputs": [
        {
          "output_type": "display_data",
          "data": {
            "text/plain": [
              "<Figure size 432x288 with 1 Axes>"
            ],
            "image/png": "[encoded data removed]"
          },
          "metadata": {
            "needs_background": "light"
          }
        }
      ]
    },
    {
      "cell_type": "code",
      "source": [
        "yellowcab['City'].value_counts()"
      ],
      "metadata": {
        "colab": {
          "base_uri": "https://localhost:8080/"
        },
        "id": "Q4iPjdijbjLY",
        "outputId": "f9f68e8e-c1b8-458c-8e2d-9e9c765cc3df"
      },
      "execution_count": 95,
      "outputs": [
        {
          "output_type": "execute_result",
          "data": {
            "text/plain": [
              "NEW YORK NY       85918\n",
              "CHICAGO IL        47264\n",
              "WASHINGTON DC     40045\n",
              "LOS ANGELES CA    28168\n",
              "BOSTON MA         24506\n",
              "SAN DIEGO CA       9816\n",
              "ATLANTA GA         5795\n",
              "DALLAS TX          5637\n",
              "SEATTLE WA         5265\n",
              "SILICON VALLEY     4722\n",
              "MIAMI FL           4452\n",
              "AUSTIN TX          3028\n",
              "ORANGE COUNTY      2469\n",
              "DENVER CO          2431\n",
              "PHOENIX AZ         1200\n",
              "NASHVILLE TN       1169\n",
              "TUCSON AZ          1132\n",
              "SACRAMENTO CA      1033\n",
              "PITTSBURGH PA       631\n",
              "Name: City, dtype: int64"
            ]
          },
          "metadata": {},
          "execution_count": 95
        }
      ]
    },
    {
      "cell_type": "code",
      "source": [
        "pinkcab['City'].value_counts()"
      ],
      "metadata": {
        "colab": {
          "base_uri": "https://localhost:8080/"
        },
        "id": "-cpZ6WN8bjJj",
        "outputId": "c69e0d46-2f85-4137-ca4e-17c0a0a12c67"
      },
      "execution_count": 96,
      "outputs": [
        {
          "output_type": "execute_result",
          "data": {
            "text/plain": [
              "LOS ANGELES CA    19865\n",
              "NEW YORK NY       13967\n",
              "SAN DIEGO CA      10672\n",
              "CHICAGO IL         9361\n",
              "BOSTON MA          5186\n",
              "SILICON VALLEY     3797\n",
              "WASHINGTON DC      3692\n",
              "SEATTLE WA         2732\n",
              "MIAMI FL           2002\n",
              "AUSTIN TX          1868\n",
              "NASHVILLE TN       1841\n",
              "ATLANTA GA         1762\n",
              "ORANGE COUNTY      1513\n",
              "DENVER CO          1394\n",
              "DALLAS TX          1380\n",
              "SACRAMENTO CA      1334\n",
              "PHOENIX AZ          864\n",
              "TUCSON AZ           799\n",
              "PITTSBURGH PA       682\n",
              "Name: City, dtype: int64"
            ]
          },
          "metadata": {},
          "execution_count": 96
        }
      ]
    },
    {
      "cell_type": "code",
      "source": [
        "sum(pinkcab['profit'])"
      ],
      "metadata": {
        "colab": {
          "base_uri": "https://localhost:8080/"
        },
        "id": "whP4LrSpbjH-",
        "outputId": "2fa9e36f-6be5-4891-d78e-40a6055a74ad"
      },
      "execution_count": 97,
      "outputs": [
        {
          "output_type": "execute_result",
          "data": {
            "text/plain": [
              "5307328.320999971"
            ]
          },
          "metadata": {},
          "execution_count": 97
        }
      ]
    },
    {
      "cell_type": "code",
      "source": [
        "sum(yellowcab['profit'])"
      ],
      "metadata": {
        "colab": {
          "base_uri": "https://localhost:8080/"
        },
        "id": "0-o3JxhbboMT",
        "outputId": "ab684e3f-7f86-45c9-f011-bb2d975776de"
      },
      "execution_count": 98,
      "outputs": [
        {
          "output_type": "execute_result",
          "data": {
            "text/plain": [
              "44020373.17079992"
            ]
          },
          "metadata": {},
          "execution_count": 98
        }
      ]
    },
    {
      "cell_type": "code",
      "source": [
        "dates = (2016 , 2017 , 2018 )\n",
        "profits = ( yc6 , yc7 , yc8 )\n",
        "print(\"profits for yellow cab\")\n",
        "for x in zip(dates , profits):\n",
        "  print(x)"
      ],
      "metadata": {
        "colab": {
          "base_uri": "https://localhost:8080/"
        },
        "id": "Ula7dkgWbjGU",
        "outputId": "afd77390-006b-4c47-89d0-7caedfd17e14"
      },
      "execution_count": 99,
      "outputs": [
        {
          "output_type": "stream",
          "name": "stdout",
          "text": [
            "profits for yellow cab\n",
            "(2016, 13786935.951200001)\n",
            "(2017, 16586614.063199997)\n",
            "(2018, 13609461.478000002)\n"
          ]
        }
      ]
    },
    {
      "cell_type": "code",
      "source": [
        "dates = (2016 , 2017 , 2018 )\n",
        "profits = ( pc6 , pc7 , pc8 )\n",
        "print(\"profits for pink cab\")\n",
        "for x in zip(dates , profits):\n",
        "  print(x)"
      ],
      "metadata": {
        "colab": {
          "base_uri": "https://localhost:8080/"
        },
        "id": "eoHY1DDDbqcs",
        "outputId": "40fb574d-44f2-488d-a78a-a214d2847820"
      },
      "execution_count": 100,
      "outputs": [
        {
          "output_type": "stream",
          "name": "stdout",
          "text": [
            "profits for pink cab\n",
            "(2016, 1686457.513)\n",
            "(2017, 2033435.134)\n",
            "(2018, 1578972.4620000003)\n"
          ]
        }
      ]
    },
    {
      "cell_type": "code",
      "source": [
        "agegrouping = pd.DataFrame({'Age': ffdf['Age'] , 'company' : ffdf['Company']})\n",
        "\n",
        "bins= [0,25,40,60,110]\n",
        "labels = ['18-25','25-40','40-60','60+']\n",
        "agegrouping['AgeGroup'] = pd.cut(agegrouping['Age'], bins=bins, labels=labels, right=False)\n",
        "agegrouping"
      ],
      "metadata": {
        "colab": {
          "base_uri": "https://localhost:8080/",
          "height": 423
        },
        "id": "ZGj8SSgibqaf",
        "outputId": "8add0a99-b680-460e-eb3b-60cfce77b6b1"
      },
      "execution_count": 101,
      "outputs": [
        {
          "output_type": "execute_result",
          "data": {
            "text/plain": [
              "        Age     company AgeGroup\n",
              "0        28    Pink Cab    25-40\n",
              "1        27    Pink Cab    25-40\n",
              "2        53    Pink Cab    40-60\n",
              "3        23    Pink Cab    18-25\n",
              "4        33    Pink Cab    25-40\n",
              "...     ...         ...      ...\n",
              "359387   24  Yellow Cab    18-25\n",
              "359388   32  Yellow Cab    25-40\n",
              "359389   56  Yellow Cab    40-60\n",
              "359390   32  Yellow Cab    25-40\n",
              "359391   20  Yellow Cab    18-25\n",
              "\n",
              "[359392 rows x 3 columns]"
            ],
            "text/html": [
              "\n",
              "  <div id=\"df-2d07b526-783d-4123-91cc-dd0ab3aee9bc\">\n",
              "    <div class=\"colab-df-container\">\n",
              "      <div>\n",
              "<style scoped>\n",
              "    .dataframe tbody tr th:only-of-type {\n",
              "        vertical-align: middle;\n",
              "    }\n",
              "\n",
              "    .dataframe tbody tr th {\n",
              "        vertical-align: top;\n",
              "    }\n",
              "\n",
              "    .dataframe thead th {\n",
              "        text-align: right;\n",
              "    }\n",
              "</style>\n",
              "<table border=\"1\" class=\"dataframe\">\n",
              "  <thead>\n",
              "    <tr style=\"text-align: right;\">\n",
              "      <th></th>\n",
              "      <th>Age</th>\n",
              "      <th>company</th>\n",
              "      <th>AgeGroup</th>\n",
              "    </tr>\n",
              "  </thead>\n",
              "  <tbody>\n",
              "    <tr>\n",
              "      <th>0</th>\n",
              "      <td>28</td>\n",
              "      <td>Pink Cab</td>\n",
              "      <td>25-40</td>\n",
              "    </tr>\n",
              "    <tr>\n",
              "      <th>1</th>\n",
              "      <td>27</td>\n",
              "      <td>Pink Cab</td>\n",
              "      <td>25-40</td>\n",
              "    </tr>\n",
              "    <tr>\n",
              "      <th>2</th>\n",
              "      <td>53</td>\n",
              "      <td>Pink Cab</td>\n",
              "      <td>40-60</td>\n",
              "    </tr>\n",
              "    <tr>\n",
              "      <th>3</th>\n",
              "      <td>23</td>\n",
              "      <td>Pink Cab</td>\n",
              "      <td>18-25</td>\n",
              "    </tr>\n",
              "    <tr>\n",
              "      <th>4</th>\n",
              "      <td>33</td>\n",
              "      <td>Pink Cab</td>\n",
              "      <td>25-40</td>\n",
              "    </tr>\n",
              "    <tr>\n",
              "      <th>...</th>\n",
              "      <td>...</td>\n",
              "      <td>...</td>\n",
              "      <td>...</td>\n",
              "    </tr>\n",
              "    <tr>\n",
              "      <th>359387</th>\n",
              "      <td>24</td>\n",
              "      <td>Yellow Cab</td>\n",
              "      <td>18-25</td>\n",
              "    </tr>\n",
              "    <tr>\n",
              "      <th>359388</th>\n",
              "      <td>32</td>\n",
              "      <td>Yellow Cab</td>\n",
              "      <td>25-40</td>\n",
              "    </tr>\n",
              "    <tr>\n",
              "      <th>359389</th>\n",
              "      <td>56</td>\n",
              "      <td>Yellow Cab</td>\n",
              "      <td>40-60</td>\n",
              "    </tr>\n",
              "    <tr>\n",
              "      <th>359390</th>\n",
              "      <td>32</td>\n",
              "      <td>Yellow Cab</td>\n",
              "      <td>25-40</td>\n",
              "    </tr>\n",
              "    <tr>\n",
              "      <th>359391</th>\n",
              "      <td>20</td>\n",
              "      <td>Yellow Cab</td>\n",
              "      <td>18-25</td>\n",
              "    </tr>\n",
              "  </tbody>\n",
              "</table>\n",
              "<p>359392 rows × 3 columns</p>\n",
              "</div>\n",
              "      <button class=\"colab-df-convert\" onclick=\"convertToInteractive('df-2d07b526-783d-4123-91cc-dd0ab3aee9bc')\"\n",
              "              title=\"Convert this dataframe to an interactive table.\"\n",
              "              style=\"display:none;\">\n",
              "        \n",
              "  <svg xmlns=\"http://www.w3.org/2000/svg\" height=\"24px\"viewBox=\"0 0 24 24\"\n",
              "       width=\"24px\">\n",
              "    <path d=\"M0 0h24v24H0V0z\" fill=\"none\"/>\n",
              "    <path d=\"M18.56 5.44l.94 2.06.94-2.06 2.06-.94-2.06-.94-.94-2.06-.94 2.06-2.06.94zm-11 1L8.5 8.5l.94-2.06 2.06-.94-2.06-.94L8.5 2.5l-.94 2.06-2.06.94zm10 10l.94 2.06.94-2.06 2.06-.94-2.06-.94-.94-2.06-.94 2.06-2.06.94z\"/><path d=\"M17.41 7.96l-1.37-1.37c-.4-.4-.92-.59-1.43-.59-.52 0-1.04.2-1.43.59L10.3 9.45l-7.72 7.72c-.78.78-.78 2.05 0 2.83L4 21.41c.39.39.9.59 1.41.59.51 0 1.02-.2 1.41-.59l7.78-7.78 2.81-2.81c.8-.78.8-2.07 0-2.86zM5.41 20L4 18.59l7.72-7.72 1.47 1.35L5.41 20z\"/>\n",
              "  </svg>\n",
              "      </button>\n",
              "      \n",
              "  <style>\n",
              "    .colab-df-container {\n",
              "      display:flex;\n",
              "      flex-wrap:wrap;\n",
              "      gap: 12px;\n",
              "    }\n",
              "\n",
              "    .colab-df-convert {\n",
              "      background-color: #E8F0FE;\n",
              "      border: none;\n",
              "      border-radius: 50%;\n",
              "      cursor: pointer;\n",
              "      display: none;\n",
              "      fill: #1967D2;\n",
              "      height: 32px;\n",
              "      padding: 0 0 0 0;\n",
              "      width: 32px;\n",
              "    }\n",
              "\n",
              "    .colab-df-convert:hover {\n",
              "      background-color: #E2EBFA;\n",
              "      box-shadow: 0px 1px 2px rgba(60, 64, 67, 0.3), 0px 1px 3px 1px rgba(60, 64, 67, 0.15);\n",
              "      fill: #174EA6;\n",
              "    }\n",
              "\n",
              "    [theme=dark] .colab-df-convert {\n",
              "      background-color: #3B4455;\n",
              "      fill: #D2E3FC;\n",
              "    }\n",
              "\n",
              "    [theme=dark] .colab-df-convert:hover {\n",
              "      background-color: #434B5C;\n",
              "      box-shadow: 0px 1px 3px 1px rgba(0, 0, 0, 0.15);\n",
              "      filter: drop-shadow(0px 1px 2px rgba(0, 0, 0, 0.3));\n",
              "      fill: #FFFFFF;\n",
              "    }\n",
              "  </style>\n",
              "\n",
              "      <script>\n",
              "        const buttonEl =\n",
              "          document.querySelector('#df-2d07b526-783d-4123-91cc-dd0ab3aee9bc button.colab-df-convert');\n",
              "        buttonEl.style.display =\n",
              "          google.colab.kernel.accessAllowed ? 'block' : 'none';\n",
              "\n",
              "        async function convertToInteractive(key) {\n",
              "          const element = document.querySelector('#df-2d07b526-783d-4123-91cc-dd0ab3aee9bc');\n",
              "          const dataTable =\n",
              "            await google.colab.kernel.invokeFunction('convertToInteractive',\n",
              "                                                     [key], {});\n",
              "          if (!dataTable) return;\n",
              "\n",
              "          const docLinkHtml = 'Like what you see? Visit the ' +\n",
              "            '<a target=\"_blank\" href=https://colab.research.google.com/notebooks/data_table.ipynb>data table notebook</a>'\n",
              "            + ' to learn more about interactive tables.';\n",
              "          element.innerHTML = '';\n",
              "          dataTable['output_type'] = 'display_data';\n",
              "          await google.colab.output.renderOutput(dataTable, element);\n",
              "          const docLink = document.createElement('div');\n",
              "          docLink.innerHTML = docLinkHtml;\n",
              "          element.appendChild(docLink);\n",
              "        }\n",
              "      </script>\n",
              "    </div>\n",
              "  </div>\n",
              "  "
            ]
          },
          "metadata": {},
          "execution_count": 101
        }
      ]
    },
    {
      "cell_type": "code",
      "source": [
        "agegrouping[agegrouping['company'] == 'Pink Cab']['AgeGroup'].value_counts()"
      ],
      "metadata": {
        "colab": {
          "base_uri": "https://localhost:8080/"
        },
        "id": "b630w1RsbqYL",
        "outputId": "827a88f9-346d-4d7b-bda0-ed6d28bca378"
      },
      "execution_count": 102,
      "outputs": [
        {
          "output_type": "execute_result",
          "data": {
            "text/plain": [
              "25-40    40069\n",
              "40-60    19907\n",
              "18-25    19306\n",
              "60+       5429\n",
              "Name: AgeGroup, dtype: int64"
            ]
          },
          "metadata": {},
          "execution_count": 102
        }
      ]
    },
    {
      "cell_type": "code",
      "source": [
        "agegrouping[agegrouping['company'] == 'Yellow Cab']['AgeGroup'].value_counts()"
      ],
      "metadata": {
        "colab": {
          "base_uri": "https://localhost:8080/"
        },
        "id": "YQfHFaldbu6G",
        "outputId": "e5f50bcb-ba62-41f1-916c-28c5f733b629"
      },
      "execution_count": 103,
      "outputs": [
        {
          "output_type": "execute_result",
          "data": {
            "text/plain": [
              "25-40    130162\n",
              "40-60     65197\n",
              "18-25     62065\n",
              "60+       17257\n",
              "Name: AgeGroup, dtype: int64"
            ]
          },
          "metadata": {},
          "execution_count": 103
        }
      ]
    },
    {
      "cell_type": "code",
      "source": [
        "ffdf[['KM Travelled' , 'profit']]"
      ],
      "metadata": {
        "colab": {
          "base_uri": "https://localhost:8080/",
          "height": 423
        },
        "id": "kPIn54uBbu4V",
        "outputId": "a365a55c-9b14-4169-fd53-6f15608a676d"
      },
      "execution_count": 104,
      "outputs": [
        {
          "output_type": "execute_result",
          "data": {
            "text/plain": [
              "        KM Travelled   profit\n",
              "0              30.45  57.3150\n",
              "1              28.62  23.6660\n",
              "2               9.04  27.5680\n",
              "3              33.17  25.7980\n",
              "4               8.73  16.8440\n",
              "...              ...      ...\n",
              "359387          4.80   5.8800\n",
              "359388          8.40   6.9020\n",
              "359389         27.75  87.4200\n",
              "359390          8.80  32.1420\n",
              "359391         12.76  13.9608\n",
              "\n",
              "[359392 rows x 2 columns]"
            ],
            "text/html": [
              "\n",
              "  <div id=\"df-a046da8a-a703-4783-8f4c-b088e8c49326\">\n",
              "    <div class=\"colab-df-container\">\n",
              "      <div>\n",
              "<style scoped>\n",
              "    .dataframe tbody tr th:only-of-type {\n",
              "        vertical-align: middle;\n",
              "    }\n",
              "\n",
              "    .dataframe tbody tr th {\n",
              "        vertical-align: top;\n",
              "    }\n",
              "\n",
              "    .dataframe thead th {\n",
              "        text-align: right;\n",
              "    }\n",
              "</style>\n",
              "<table border=\"1\" class=\"dataframe\">\n",
              "  <thead>\n",
              "    <tr style=\"text-align: right;\">\n",
              "      <th></th>\n",
              "      <th>KM Travelled</th>\n",
              "      <th>profit</th>\n",
              "    </tr>\n",
              "  </thead>\n",
              "  <tbody>\n",
              "    <tr>\n",
              "      <th>0</th>\n",
              "      <td>30.45</td>\n",
              "      <td>57.3150</td>\n",
              "    </tr>\n",
              "    <tr>\n",
              "      <th>1</th>\n",
              "      <td>28.62</td>\n",
              "      <td>23.6660</td>\n",
              "    </tr>\n",
              "    <tr>\n",
              "      <th>2</th>\n",
              "      <td>9.04</td>\n",
              "      <td>27.5680</td>\n",
              "    </tr>\n",
              "    <tr>\n",
              "      <th>3</th>\n",
              "      <td>33.17</td>\n",
              "      <td>25.7980</td>\n",
              "    </tr>\n",
              "    <tr>\n",
              "      <th>4</th>\n",
              "      <td>8.73</td>\n",
              "      <td>16.8440</td>\n",
              "    </tr>\n",
              "    <tr>\n",
              "      <th>...</th>\n",
              "      <td>...</td>\n",
              "      <td>...</td>\n",
              "    </tr>\n",
              "    <tr>\n",
              "      <th>359387</th>\n",
              "      <td>4.80</td>\n",
              "      <td>5.8800</td>\n",
              "    </tr>\n",
              "    <tr>\n",
              "      <th>359388</th>\n",
              "      <td>8.40</td>\n",
              "      <td>6.9020</td>\n",
              "    </tr>\n",
              "    <tr>\n",
              "      <th>359389</th>\n",
              "      <td>27.75</td>\n",
              "      <td>87.4200</td>\n",
              "    </tr>\n",
              "    <tr>\n",
              "      <th>359390</th>\n",
              "      <td>8.80</td>\n",
              "      <td>32.1420</td>\n",
              "    </tr>\n",
              "    <tr>\n",
              "      <th>359391</th>\n",
              "      <td>12.76</td>\n",
              "      <td>13.9608</td>\n",
              "    </tr>\n",
              "  </tbody>\n",
              "</table>\n",
              "<p>359392 rows × 2 columns</p>\n",
              "</div>\n",
              "      <button class=\"colab-df-convert\" onclick=\"convertToInteractive('df-a046da8a-a703-4783-8f4c-b088e8c49326')\"\n",
              "              title=\"Convert this dataframe to an interactive table.\"\n",
              "              style=\"display:none;\">\n",
              "        \n",
              "  <svg xmlns=\"http://www.w3.org/2000/svg\" height=\"24px\"viewBox=\"0 0 24 24\"\n",
              "       width=\"24px\">\n",
              "    <path d=\"M0 0h24v24H0V0z\" fill=\"none\"/>\n",
              "    <path d=\"M18.56 5.44l.94 2.06.94-2.06 2.06-.94-2.06-.94-.94-2.06-.94 2.06-2.06.94zm-11 1L8.5 8.5l.94-2.06 2.06-.94-2.06-.94L8.5 2.5l-.94 2.06-2.06.94zm10 10l.94 2.06.94-2.06 2.06-.94-2.06-.94-.94-2.06-.94 2.06-2.06.94z\"/><path d=\"M17.41 7.96l-1.37-1.37c-.4-.4-.92-.59-1.43-.59-.52 0-1.04.2-1.43.59L10.3 9.45l-7.72 7.72c-.78.78-.78 2.05 0 2.83L4 21.41c.39.39.9.59 1.41.59.51 0 1.02-.2 1.41-.59l7.78-7.78 2.81-2.81c.8-.78.8-2.07 0-2.86zM5.41 20L4 18.59l7.72-7.72 1.47 1.35L5.41 20z\"/>\n",
              "  </svg>\n",
              "      </button>\n",
              "      \n",
              "  <style>\n",
              "    .colab-df-container {\n",
              "      display:flex;\n",
              "      flex-wrap:wrap;\n",
              "      gap: 12px;\n",
              "    }\n",
              "\n",
              "    .colab-df-convert {\n",
              "      background-color: #E8F0FE;\n",
              "      border: none;\n",
              "      border-radius: 50%;\n",
              "      cursor: pointer;\n",
              "      display: none;\n",
              "      fill: #1967D2;\n",
              "      height: 32px;\n",
              "      padding: 0 0 0 0;\n",
              "      width: 32px;\n",
              "    }\n",
              "\n",
              "    .colab-df-convert:hover {\n",
              "      background-color: #E2EBFA;\n",
              "      box-shadow: 0px 1px 2px rgba(60, 64, 67, 0.3), 0px 1px 3px 1px rgba(60, 64, 67, 0.15);\n",
              "      fill: #174EA6;\n",
              "    }\n",
              "\n",
              "    [theme=dark] .colab-df-convert {\n",
              "      background-color: #3B4455;\n",
              "      fill: #D2E3FC;\n",
              "    }\n",
              "\n",
              "    [theme=dark] .colab-df-convert:hover {\n",
              "      background-color: #434B5C;\n",
              "      box-shadow: 0px 1px 3px 1px rgba(0, 0, 0, 0.15);\n",
              "      filter: drop-shadow(0px 1px 2px rgba(0, 0, 0, 0.3));\n",
              "      fill: #FFFFFF;\n",
              "    }\n",
              "  </style>\n",
              "\n",
              "      <script>\n",
              "        const buttonEl =\n",
              "          document.querySelector('#df-a046da8a-a703-4783-8f4c-b088e8c49326 button.colab-df-convert');\n",
              "        buttonEl.style.display =\n",
              "          google.colab.kernel.accessAllowed ? 'block' : 'none';\n",
              "\n",
              "        async function convertToInteractive(key) {\n",
              "          const element = document.querySelector('#df-a046da8a-a703-4783-8f4c-b088e8c49326');\n",
              "          const dataTable =\n",
              "            await google.colab.kernel.invokeFunction('convertToInteractive',\n",
              "                                                     [key], {});\n",
              "          if (!dataTable) return;\n",
              "\n",
              "          const docLinkHtml = 'Like what you see? Visit the ' +\n",
              "            '<a target=\"_blank\" href=https://colab.research.google.com/notebooks/data_table.ipynb>data table notebook</a>'\n",
              "            + ' to learn more about interactive tables.';\n",
              "          element.innerHTML = '';\n",
              "          dataTable['output_type'] = 'display_data';\n",
              "          await google.colab.output.renderOutput(dataTable, element);\n",
              "          const docLink = document.createElement('div');\n",
              "          docLink.innerHTML = docLinkHtml;\n",
              "          element.appendChild(docLink);\n",
              "        }\n",
              "      </script>\n",
              "    </div>\n",
              "  </div>\n",
              "  "
            ]
          },
          "metadata": {},
          "execution_count": 104
        }
      ]
    },
    {
      "cell_type": "code",
      "source": [
        "print(\"km travelled by yellow cabs\" ,sum (yellowcab['KM Travelled']))\n",
        "print(\"km travelled by pink cabs\" ,sum (pinkcab['KM Travelled']))"
      ],
      "metadata": {
        "colab": {
          "base_uri": "https://localhost:8080/"
        },
        "id": "PH5AivOFbu2r",
        "outputId": "bc4cb2c0-3aee-4103-9a60-3a12c472022c"
      },
      "execution_count": 105,
      "outputs": [
        {
          "output_type": "stream",
          "name": "stdout",
          "text": [
            "km travelled by yellow cabs 6199417.470000072\n",
            "km travelled by pink cabs 1911073.1099999654\n"
          ]
        }
      ]
    },
    {
      "cell_type": "code",
      "source": [
        "print(\"total profit per km\")\n",
        "sum(ffdf['profit']) /sum (ffdf['KM Travelled'])"
      ],
      "metadata": {
        "colab": {
          "base_uri": "https://localhost:8080/"
        },
        "id": "HjYBo-HBbu1F",
        "outputId": "1c8c1583-1504-463d-ba04-3931b567c63b"
      },
      "execution_count": 106,
      "outputs": [
        {
          "output_type": "stream",
          "name": "stdout",
          "text": [
            "total profit per km\n"
          ]
        },
        {
          "output_type": "execute_result",
          "data": {
            "text/plain": [
              "6.08196273767198"
            ]
          },
          "metadata": {},
          "execution_count": 106
        }
      ]
    },
    {
      "cell_type": "code",
      "source": [
        "print(\"profit per km for yellow cab\")\n",
        "\n",
        "sum(yellowcab['profit']) /sum (yellowcab['KM Travelled'])"
      ],
      "metadata": {
        "colab": {
          "base_uri": "https://localhost:8080/"
        },
        "id": "YFVj0zvTbuzT",
        "outputId": "0a0f2911-3d86-4353-f2c1-9408431b13f4"
      },
      "execution_count": 107,
      "outputs": [
        {
          "output_type": "stream",
          "name": "stdout",
          "text": [
            "profit per km for yellow cab\n"
          ]
        },
        {
          "output_type": "execute_result",
          "data": {
            "text/plain": [
              "7.100727347984101"
            ]
          },
          "metadata": {},
          "execution_count": 107
        }
      ]
    },
    {
      "cell_type": "code",
      "source": [
        "print(\"profit per km for pink cab\")\n",
        "\n",
        "sum(pinkcab['profit']) /sum (pinkcab['KM Travelled'])"
      ],
      "metadata": {
        "colab": {
          "base_uri": "https://localhost:8080/"
        },
        "id": "z04M3KGlbuxs",
        "outputId": "ecdd5cda-da06-475e-a4b2-cea97c3500df"
      },
      "execution_count": 108,
      "outputs": [
        {
          "output_type": "stream",
          "name": "stdout",
          "text": [
            "profit per km for pink cab\n"
          ]
        },
        {
          "output_type": "execute_result",
          "data": {
            "text/plain": [
              "2.7771456221264432"
            ]
          },
          "metadata": {},
          "execution_count": 108
        }
      ]
    },
    {
      "cell_type": "code",
      "source": [
        "pinkcab['profit'].plot(kind='kde')\n",
        "yellowcab['profit'].plot(kind='kde')"
      ],
      "metadata": {
        "colab": {
          "base_uri": "https://localhost:8080/",
          "height": 282
        },
        "id": "Sxem4iWXbuwG",
        "outputId": "380914cf-7f09-430a-c7aa-4963a186ca18"
      },
      "execution_count": 109,
      "outputs": [
        {
          "output_type": "execute_result",
          "data": {
            "text/plain": [
              "<matplotlib.axes._subplots.AxesSubplot at 0x7fa30c246ed0>"
            ]
          },
          "metadata": {},
          "execution_count": 109
        },
        {
          "output_type": "display_data",
          "data": {
            "text/plain": [
              "<Figure size 432x288 with 1 Axes>"
            ],
            "image/png": "[encoded data removed]"
          },
          "metadata": {
            "needs_background": "light"
          }
        }
      ]
    },
    {
      "cell_type": "markdown",
      "source": [
        "![image.png](data:image/png;base64,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)"
      ],
      "metadata": {
        "id": "kCJfIZeTb39b"
      }
    },
    {
      "cell_type": "markdown",
      "source": [
        ""
      ],
      "metadata": {
        "id": "u1KeOFsQb30L"
      }
    },
    {
      "cell_type": "code",
      "source": [
        ""
      ],
      "metadata": {
        "id": "cXRPEL8kbqPM"
      },
      "execution_count": 109,
      "outputs": []
    },
    {
      "cell_type": "code",
      "source": [
        ""
      ],
      "metadata": {
        "id": "1ScE6CxtbjEk"
      },
      "execution_count": 109,
      "outputs": []
    }
  ]
}